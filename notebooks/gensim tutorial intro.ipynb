{
 "metadata": {
  "name": "",
  "signature": "sha256:29f2b5ec9b671c8b9f0a0a79b1fb99bc28c962c3d692769465eb84dbb0f43603"
 },
 "nbformat": 3,
 "nbformat_minor": 0,
 "worksheets": [
  {
   "cells": [
    {
     "cell_type": "markdown",
     "metadata": {},
     "source": [
      "# testing... http://radimrehurek.com/gensim/tutorial.html"
     ]
    },
    {
     "cell_type": "code",
     "collapsed": false,
     "input": [
      ">>> import logging\n",
      ">>> logging.basicConfig(format='%(asctime)s : %(levelname)s : %(message)s', level=logging.INFO)"
     ],
     "language": "python",
     "metadata": {},
     "outputs": [],
     "prompt_number": 3
    },
    {
     "cell_type": "code",
     "collapsed": false,
     "input": [
      ">>> from gensim import corpora, models, similarities\n",
      ">>>\n",
      ">>> corpus = [[(0, 1.0), (1, 1.0), (2, 1.0)],\n",
      ">>>           [(2, 1.0), (3, 1.0), (4, 1.0), (5, 1.0), (6, 1.0), (8, 1.0)],\n",
      ">>>           [(1, 1.0), (3, 1.0), (4, 1.0), (7, 1.0)],\n",
      ">>>           [(0, 1.0), (4, 2.0), (7, 1.0)],\n",
      ">>>           [(3, 1.0), (5, 1.0), (6, 1.0)],\n",
      ">>>           [(9, 1.0)],\n",
      ">>>           [(9, 1.0), (10, 1.0)],\n",
      ">>>           [(9, 1.0), (10, 1.0), (11, 1.0)],\n",
      ">>>           [(8, 1.0), (10, 1.0), (11, 1.0)]]"
     ],
     "language": "python",
     "metadata": {},
     "outputs": [],
     "prompt_number": 2
    },
    {
     "cell_type": "code",
     "collapsed": false,
     "input": [
      ">>> tfidf = models.TfidfModel(corpus)"
     ],
     "language": "python",
     "metadata": {},
     "outputs": [
      {
       "output_type": "stream",
       "stream": "stderr",
       "text": [
        "2014-06-03 15:43:40,125 : INFO : collecting document frequencies\n"
       ]
      },
      {
       "output_type": "stream",
       "stream": "stderr",
       "text": [
        "2014-06-03 15:43:40,125 : INFO : PROGRESS: processing document #0\n"
       ]
      },
      {
       "output_type": "stream",
       "stream": "stderr",
       "text": [
        "2014-06-03 15:43:40,125 : INFO : calculating IDF weights for 9 documents and 11 features (28 matrix non-zeros)\n"
       ]
      }
     ],
     "prompt_number": 4
    },
    {
     "cell_type": "code",
     "collapsed": false,
     "input": [
      ">>> vec = [(0, 1), (4, 1)]\n",
      ">>> print(tfidf[vec])"
     ],
     "language": "python",
     "metadata": {},
     "outputs": [
      {
       "output_type": "stream",
       "stream": "stdout",
       "text": [
        "[(0, 0.8075244024440723), (4, 0.5898341626740045)]\n"
       ]
      }
     ],
     "prompt_number": 6
    },
    {
     "cell_type": "code",
     "collapsed": false,
     "input": [
      ">>> index = similarities.SparseMatrixSimilarity(tfidf[corpus], num_features=12)"
     ],
     "language": "python",
     "metadata": {},
     "outputs": [
      {
       "output_type": "stream",
       "stream": "stderr",
       "text": [
        "2014-06-03 15:49:51,171 : INFO : creating sparse index\n"
       ]
      },
      {
       "output_type": "stream",
       "stream": "stderr",
       "text": [
        "2014-06-03 15:49:51,173 : INFO : creating sparse matrix from corpus\n"
       ]
      },
      {
       "output_type": "stream",
       "stream": "stderr",
       "text": [
        "2014-06-03 15:49:51,173 : INFO : PROGRESS: at document #0\n"
       ]
      },
      {
       "output_type": "stream",
       "stream": "stderr",
       "text": [
        "2014-06-03 15:49:51,174 : INFO : created <9x12 sparse matrix of type '<type 'numpy.float32'>'\n",
        "\twith 28 stored elements in Compressed Sparse Row format>\n"
       ]
      }
     ],
     "prompt_number": 7
    },
    {
     "cell_type": "code",
     "collapsed": false,
     "input": [
      ">>> sims = index[tfidf[vec]]\n",
      ">>> print(list(enumerate(sims)))"
     ],
     "language": "python",
     "metadata": {},
     "outputs": [
      {
       "output_type": "stream",
       "stream": "stdout",
       "text": [
        "[(0, 0.4662244), (1, 0.19139354), (2, 0.24600551), (3, 0.82094592), (4, 0.0), (5, 0.0), (6, 0.0), (7, 0.0), (8, 0.0)]\n"
       ]
      }
     ],
     "prompt_number": 9
    },
    {
     "cell_type": "code",
     "collapsed": false,
     "input": [],
     "language": "python",
     "metadata": {},
     "outputs": []
    }
   ],
   "metadata": {}
  }
 ]
}