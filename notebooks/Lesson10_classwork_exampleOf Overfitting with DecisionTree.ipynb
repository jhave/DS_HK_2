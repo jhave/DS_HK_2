{
 "metadata": {
  "name": "",
  "signature": "sha256:dee309a653f015417efe33b0b6f91fd73b7e8e7d99b1cc017760029506ce1784"
 },
 "nbformat": 3,
 "nbformat_minor": 0,
 "worksheets": [
  {
   "cells": [
    {
     "cell_type": "code",
     "collapsed": false,
     "input": [
      "from sklearn import datasets, metrics, tree, cross_validation\n",
      "from matplotlib import pyplot as plt\n",
      "iris = datasets.load_iris()"
     ],
     "language": "python",
     "metadata": {},
     "outputs": [],
     "prompt_number": 1
    },
    {
     "cell_type": "markdown",
     "metadata": {},
     "source": [
      "class sklearn.tree.DecisionTreeClassifier(criterion='gini', splitter='best', max_depth=None, min_samples_split=2, min_samples_leaf=1, max_features=None, random_state=None, min_density=None, compute_importances=None)\u00b6\n",
      "\n",
      "Because these parameters are not set, then Hunt's algorithm continues until it finds 100% purity."
     ]
    },
    {
     "cell_type": "code",
     "collapsed": false,
     "input": [
      "clf = tree.DecisionTreeClassifier()\n",
      "y_pred = clf.fit(iris.data, iris.target).predict(iris.data)\n",
      "print \"Number of mislabeled points : %d\" % (iris.target != y_pred).sum()\n",
      "print \"Absolutely ridiculously overfit score: %d\" % (tree.DecisionTreeClassifier().fit(iris.data,\n",
      "    iris.target).score(iris.data, iris.target))"
     ],
     "language": "python",
     "metadata": {},
     "outputs": [
      {
       "output_type": "stream",
       "stream": "stdout",
       "text": [
        "Number of mislabeled points : 0\n",
        "Absolutely ridiculously overfit score: 1\n"
       ]
      }
     ],
     "prompt_number": 2
    },
    {
     "cell_type": "code",
     "collapsed": false,
     "input": [
      "metrics.confusion_matrix(iris.target, clf.predict(iris.data))"
     ],
     "language": "python",
     "metadata": {},
     "outputs": [
      {
       "metadata": {},
       "output_type": "pyout",
       "prompt_number": 3,
       "text": [
        "array([[50,  0,  0],\n",
        "       [ 0, 50,  0],\n",
        "       [ 0,  0, 50]])"
       ]
      }
     ],
     "prompt_number": 3
    },
    {
     "cell_type": "code",
     "collapsed": false,
     "input": [],
     "language": "python",
     "metadata": {},
     "outputs": []
    }
   ],
   "metadata": {}
  }
 ]
}