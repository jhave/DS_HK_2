{
 "metadata": {
  "name": "",
  "signature": "sha256:8ae4687c981fc577328677a67a1dfe845852af5ef324bcf0083c240886dd98be"
 },
 "nbformat": 3,
 "nbformat_minor": 0,
 "worksheets": [
  {
   "cells": [
    {
     "cell_type": "code",
     "collapsed": false,
     "input": [
      "%matplotlib inline\n",
      "import pandas as pd\n",
      "import numpy as np\n",
      "import matplotlib.pyplot as plt\n",
      "\n",
      "# Don't show deprecation warnings\n",
      "import warnings\n",
      "warnings.filterwarnings(\"ignore\", category=DeprecationWarning) \n",
      "\n",
      "# Set some Pandas options\n",
      "pd.set_option('max_columns', 30)\n",
      "pd.set_option('max_rows', 20)\n",
      "\n",
      "# Store data in a consistent place\n",
      "DATA_DIR = '../data/'"
     ],
     "language": "python",
     "metadata": {},
     "outputs": [],
     "prompt_number": 3
    },
    {
     "cell_type": "code",
     "collapsed": false,
     "input": [
      "\"\"\"\n",
      "Problem: Classify text as either an insult or not an insult\n",
      "Data: Training data with text that decides if the input was an insult or not.\n",
      "soooo.... this is a supervised learning Problem\n",
      "Classifier: Naive Bayes.\n",
      "\"\"\"\n",
      "# IMPORT MODULES\n",
      "from sklearn import naive_bayes, cross_validation, metrics\n",
      "from sklearn.feature_extraction.text import CountVectorizer"
     ],
     "language": "python",
     "metadata": {},
     "outputs": [],
     "prompt_number": 4
    },
    {
     "cell_type": "code",
     "collapsed": false,
     "input": [
      "######## LOAD DATA\n",
      "train = pd.read_csv(DATA_DIR + 'insults/train-utf8.csv')\n",
      "test = pd.read_csv(DATA_DIR + 'insults/test-utf8.csv')"
     ],
     "language": "python",
     "metadata": {},
     "outputs": [],
     "prompt_number": 7
    },
    {
     "cell_type": "code",
     "collapsed": false,
     "input": [
      "### Text data isn't useable in it's form. We need to vectorize text, does it\n",
      "# make more sense to get counts? maybe... a count vectorizer?\n",
      "\n",
      "# Search 'text count vectorizer' in google."
     ],
     "language": "python",
     "metadata": {},
     "outputs": [],
     "prompt_number": 8
    },
    {
     "cell_type": "code",
     "collapsed": false,
     "input": [
      "from IPython.display import HTML\n",
      "HTML('<iframe src=http://www.google.com/custom?q=text+count+vectorizer&qscrl=1 width=900 height=350></iframe>') "
     ],
     "language": "python",
     "metadata": {},
     "outputs": [
      {
       "html": [
        "<iframe src=http://www.google.com/custom?q=text+count+vectorizer&qscrl=1 width=900 height=350></iframe>"
       ],
       "metadata": {},
       "output_type": "pyout",
       "prompt_number": 9,
       "text": [
        "<IPython.core.display.HTML at 0xd256d90>"
       ]
      }
     ],
     "prompt_number": 9
    },
    {
     "cell_type": "code",
     "collapsed": false,
     "input": [
      "# sklearn is the first hit!\n",
      "from IPython.display import HTML\n",
      "HTML('<iframe src=http://scikit-learn.org/stable/modules/generated/sklearn.feature_extraction.text.CountVectorizer.html width=900 height=500></iframe>') "
     ],
     "language": "python",
     "metadata": {},
     "outputs": [
      {
       "html": [
        "<iframe src=http://scikit-learn.org/stable/modules/generated/sklearn.feature_extraction.text.CountVectorizer.html width=900 height=500></iframe>"
       ],
       "metadata": {},
       "output_type": "pyout",
       "prompt_number": 10,
       "text": [
        "<IPython.core.display.HTML at 0xd256cb0>"
       ]
      }
     ],
     "prompt_number": 10
    },
    {
     "cell_type": "code",
     "collapsed": false,
     "input": [
      "# Seems like there's a bunch of arguments, but tells me it makes a world count matrix.\n",
      "# Matrix sounds like a training set, so DONE HERE!\n",
      "\n",
      "# Some things I see it also does:\n",
      "\n",
      "# remove stop words. Neat!\n",
      "# ngram range: relatively useful, how many words to consider per feature.\n",
      "\n",
      "# USEFUL :\n",
      "# min_df minimum document frequency used to remove words that only occur rarely which might be typoes, \n",
      "# might also be useful to find outliers, orignal words\n"
     ],
     "language": "python",
     "metadata": {},
     "outputs": [],
     "prompt_number": 11
    },
    {
     "cell_type": "code",
     "collapsed": false,
     "input": [
      "########## TRANSFORM THE DATA: COUNT VECTORIZE, CLEANING\n",
      "vectorizer = CountVectorizer()\n",
      "# NOTE: the training set is fit_transform which means fit it first then transform it \n",
      "# because in the training data it is already labeled and we know its features\n",
      "# each word is a potential feature to be discovered with \"transform\"\n",
      "X_train = vectorizer.fit_transform(train.Comment)\n",
      "X_test = vectorizer.transform(test.Comment)\n",
      "X_test"
     ],
     "language": "python",
     "metadata": {},
     "outputs": [
      {
       "metadata": {},
       "output_type": "pyout",
       "prompt_number": 24,
       "text": [
        "<2235x15457 sparse matrix of type '<type 'numpy.int64'>'\n",
        "\twith 32033 stored elements in Compressed Sparse Row format>"
       ]
      }
     ],
     "prompt_number": 24
    },
    {
     "cell_type": "code",
     "collapsed": false,
     "input": [
      "##### USE THE WORD COUNT MATRIX TO PREDICT INSULT/NOT INSULT (1/0)\n",
      "### BUILD A TRAINING AND TEST SET\n",
      "# Insult is a colume header in the training data\n",
      "model = naive_bayes.MultinomialNB().fit(X_train, list(train.Insult))"
     ],
     "language": "python",
     "metadata": {},
     "outputs": [],
     "prompt_number": 15
    },
    {
     "cell_type": "code",
     "collapsed": false,
     "input": [
      "# other things I need to do... cross_validation, and hey, let's try getting the auc score!\n",
      "# google: cross validation sklearn"
     ],
     "language": "python",
     "metadata": {},
     "outputs": [],
     "prompt_number": 18
    },
    {
     "cell_type": "code",
     "collapsed": false,
     "input": [
      "###### TEST RESULTS\n",
      "###### CROSS VALIDATE\n",
      "####### DISPLAY RESULTS: AUC TO CHECK FOR ERROR\n",
      "print cross_validation.cross_val_score(naive_bayes.MultinomialNB(), X_train, train.Insult)\n",
      "fpr, tpr, thresholds = metrics.roc_curve(train.Insult, model.predict(X_train), pos_label=1)\n",
      "print metrics.auc(fpr, tpr)"
     ],
     "language": "python",
     "metadata": {},
     "outputs": [
      {
       "output_type": "stream",
       "stream": "stdout",
       "text": [
        "[ 0.78039514  0.79407295  0.78859316]\n",
        "0.899660756802\n"
       ]
      }
     ],
     "prompt_number": 19
    },
    {
     "cell_type": "code",
     "collapsed": false,
     "input": [
      "######  OUTPUT RESULTS\n",
      "#\n",
      "# USEFUL: it outputs a float that could be used to cluster\n",
      "#\n",
      "predictions = model.predict_proba(X_test)[:,1]\n",
      "predictions"
     ],
     "language": "python",
     "metadata": {},
     "outputs": [
      {
       "metadata": {},
       "output_type": "pyout",
       "prompt_number": 22,
       "text": [
        "array([ 0.25160818,  0.93542747,  0.00590668, ...,  0.17754247,\n",
        "        0.46883524,  0.18146517])"
       ]
      }
     ],
     "prompt_number": 22
    },
    {
     "cell_type": "code",
     "collapsed": false,
     "input": [
      "submission = pd.DataFrame({'id' : test.id, 'insult': predictions})\n",
      "submission.to_csv(DATA_DIR + 'insults/submission.csv', index=False)"
     ],
     "language": "python",
     "metadata": {},
     "outputs": [],
     "prompt_number": 21
    },
    {
     "cell_type": "markdown",
     "metadata": {},
     "source": [
      "Possible\n",
      "IMPROVEMENTS\n",
      "\n",
      "more complex count vectorizer\n",
      "sentiment analysis\n",
      "-- can Bayesian analysis accounted for linguistic drift\n",
      "the slow subtle drift in word meaning as the culture influences\n"
     ]
    },
    {
     "cell_type": "markdown",
     "metadata": {},
     "source": [
      "\"\"\"\n",
      "chris proposes taking the 100% insults from test data and putting it into training data and iteratively improve....\n",
      "\"\"\""
     ]
    }
   ],
   "metadata": {}
  }
 ]
}