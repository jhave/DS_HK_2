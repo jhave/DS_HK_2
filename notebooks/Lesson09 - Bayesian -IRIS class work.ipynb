{
 "metadata": {
  "name": "",
  "signature": "sha256:f4e0a50386d55908fca3de152af4309ffa2306e3f3f661552b06121beb527838"
 },
 "nbformat": 3,
 "nbformat_minor": 0,
 "worksheets": [
  {
   "cells": [
    {
     "cell_type": "code",
     "collapsed": false,
     "input": [
      "%matplotlib inline\n",
      "import pandas as pd\n",
      "import numpy as np\n",
      "import matplotlib.pyplot as plt\n",
      "\n",
      "# Don't show deprecation warnings\n",
      "import warnings\n",
      "warnings.filterwarnings(\"ignore\", category=DeprecationWarning) \n",
      "\n",
      "# Set some Pandas options\n",
      "pd.set_option('max_columns', 30)\n",
      "pd.set_option('max_rows', 20)\n",
      "\n",
      "# Store data in a consistent place\n",
      "DATA_DIR = '../data/'"
     ],
     "language": "python",
     "metadata": {},
     "outputs": [],
     "prompt_number": 1
    },
    {
     "cell_type": "code",
     "collapsed": false,
     "input": [
      "from sklearn import datasets, metrics\n",
      "from matplotlib import pyplot as plt"
     ],
     "language": "python",
     "metadata": {},
     "outputs": [],
     "prompt_number": 2
    },
    {
     "cell_type": "code",
     "collapsed": false,
     "input": [
      "iris = datasets.load_iris()\n",
      "\n",
      "from sklearn.naive_bayes import GaussianNB\n",
      "gnb = GaussianNB()\n",
      "\n",
      "y_pred = gnb.fit(iris.data, iris.target).predict(iris.data)\n",
      "\n",
      "print(\"Number of mislabeled points : %d\" % (iris.target != y_pred).sum())"
     ],
     "language": "python",
     "metadata": {},
     "outputs": [
      {
       "output_type": "stream",
       "stream": "stdout",
       "text": [
        "Number of mislabeled points : 6\n"
       ]
      }
     ],
     "prompt_number": 3
    },
    {
     "cell_type": "code",
     "collapsed": false,
     "input": [
      "# Finding the false positive and true positive rates where the positive label is 2.\n",
      "# ROC receiver operator characteristic (developed during war listening to radio waves, saying whether its plane or bird)\n",
      "# AUC is \n",
      "fpr, tpr, thresholds = metrics.roc_curve(iris.target, y_pred, pos_label=2)\n",
      "# X-axis is False Positive Rate (1 - specificity)\n",
      "# Y-axis is True Positive Rate (sensitivity)\n",
      "metrics.auc(fpr, tpr)\n",
      "plt.plot(fpr, tpr)\n",
      "plt.show()"
     ],
     "language": "python",
     "metadata": {},
     "outputs": [
      {
       "metadata": {},
       "output_type": "display_data",
       "png": "[encoded data removed]",
       "text": [
        "<matplotlib.figure.Figure at 0x99fbed0>"
       ]
      }
     ],
     "prompt_number": 4
    },
    {
     "cell_type": "code",
     "collapsed": false,
     "input": [],
     "language": "python",
     "metadata": {},
     "outputs": []
    }
   ],
   "metadata": {}
  }
 ]
}