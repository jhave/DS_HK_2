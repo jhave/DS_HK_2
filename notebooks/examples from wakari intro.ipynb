{
 "metadata": {
  "name": ""
 },
 "nbformat": 3,
 "nbformat_minor": 0,
 "worksheets": [
  {
   "cells": [
    {
     "cell_type": "code",
     "collapsed": false,
     "input": [
      "%connect_info"
     ],
     "language": "python",
     "metadata": {},
     "outputs": [
      {
       "output_type": "stream",
       "stream": "stdout",
       "text": [
        "{\n",
        "  \"stdin_port\": 51126, \n",
        "  \"ip\": \"127.0.0.1\", \n",
        "  \"control_port\": 51127, \n",
        "  \"hb_port\": 51128, \n",
        "  \"signature_scheme\": \"hmac-sha256\", \n",
        "  \"key\": \"cf69e750-2565-407e-87c1-cd26a7e64f26\", \n",
        "  \"shell_port\": 51124, \n",
        "  \"transport\": \"tcp\", \n",
        "  \"iopub_port\": 51125\n",
        "}\n",
        "\n",
        "Paste the above JSON into a file, and connect with:\n",
        "    $> ipython <app> --existing <file>\n",
        "or, if you are local, you can connect with just:\n",
        "    $> ipython <app> --existing kernel-b967d911-51db-4a82-83fb-3ae15c70b9a5.json \n",
        "or even just:\n",
        "    $> ipython <app> --existing \n",
        "if this is the most recent IPython session you have started.\n"
       ]
      }
     ],
     "prompt_number": 1
    },
    {
     "cell_type": "code",
     "collapsed": false,
     "input": [
      "import numpy as np"
     ],
     "language": "python",
     "metadata": {},
     "outputs": [],
     "prompt_number": 2
    },
    {
     "cell_type": "code",
     "collapsed": false,
     "input": [
      "%matplotlib inline\n",
      "\n",
      "import matplotlib.pyplot as plt\n",
      "import numpy as np\n",
      "\n",
      "plt.plot(np.random.rand(100));"
     ],
     "language": "python",
     "metadata": {},
     "outputs": [
      {
       "metadata": {},
       "output_type": "display_data",
       "png": "[encoded data removed]",
       "text": [
        "<matplotlib.figure.Figure at 0x7694910>"
       ]
      }
     ],
     "prompt_number": 3
    },
    {
     "cell_type": "code",
     "collapsed": false,
     "input": [
      "ls"
     ],
     "language": "python",
     "metadata": {},
     "outputs": [
      {
       "output_type": "stream",
       "stream": "stdout",
       "text": [
        " Volume in drive C is SYSTEM\n",
        " Volume Serial Number is 36E6-43A5\n",
        "\n",
        " Directory of C:\\Users\\david\n",
        "\n",
        "26/04/2014  10:37 AM    <DIR>          .\n",
        "26/04/2014  10:37 AM    <DIR>          ..\n",
        "10/09/2013  08:38 PM    <DIR>          .android\n",
        "25/04/2014  01:24 AM    <DIR>          .astropy\n",
        "23/04/2014  01:49 PM    <DIR>          .continuum\n",
        "25/04/2014  09:03 PM    <DIR>          .cython\n",
        "04/02/2014  03:15 AM                44 .gitconfig\n",
        "25/04/2014  01:28 AM    <DIR>          .ipython\n",
        "02/02/2014  09:23 AM    <DIR>          .MakeMKV\n",
        "26/04/2014  10:42 AM    <DIR>          .matplotlib\n",
        "25/04/2014  12:05 AM    <DIR>          .PyCharm30\n",
        "04/02/2014  03:19 AM    <DIR>          .ssh\n",
        "26/04/2014  10:37 AM            52,861 01_notebook_introduction.ipynb\n",
        "08/06/2013  01:34 PM    <DIR>          ABLETON\n",
        "12/06/2013  11:21 AM    <DIR>          Adobe After Effects CS6\n",
        "12/04/2013  01:19 PM    <DIR>          Adobe Flash Builder 4.7\n",
        "25/09/2013  09:53 PM    <DIR>          AE_testRenders\n",
        "22/09/2013  01:00 PM    <DIR>          BUTTERFLY_backups\n",
        "18/05/2013  02:54 AM       103,491,284 camrec_test_audio_interstitial.avi\n",
        "05/02/2014  12:21 AM    <DIR>          CAMTASIA\n",
        "01/06/2013  11:08 AM        86,229,656 capture-1.avi\n",
        "18/05/2013  02:57 AM        30,011,392 capture-test-interstitial.camrec\n",
        "29/09/2013  02:23 PM    <DIR>          Contacts\n",
        "10/03/2014  08:18 AM                 0 daemonprocess.txt\n",
        "24/04/2014  11:11 PM    <DIR>          Desktop\n",
        "12/03/2014  10:09 AM    <DIR>          DOCUMENTATION\n",
        "23/04/2014  01:49 PM    <DIR>          Documents\n",
        "26/04/2014  10:35 AM    <DIR>          Downloads\n",
        "26/04/2014  08:42 AM    <DIR>          Dropbox\n",
        "14/09/2012  02:18 PM    <DIR>          EDIROL\n",
        "09/12/2012  06:40 PM           397,802 Evernote 20121209 132405_ESTUARY.wav\n",
        "29/09/2013  02:23 PM    <DIR>          Favorites\n",
        "06/01/2013  02:17 PM    <DIR>          GLIA USB 16GB\n",
        "10/08/2013  02:51 PM    <DIR>          Google Drive\n",
        "09/02/2013  07:02 PM    <DIR>          HD\n",
        "02/09/2012  06:23 PM    <DIR>          HK_2012_MUST GO INTO GDRIVE AFTER\n",
        "02/04/2014  09:17 PM    <DIR>          HK_SCM\n",
        "03/04/2014  09:32 AM    <DIR>          Lexcavator\n",
        "27/03/2014  08:21 AM    <DIR>          Links\n",
        "01/02/2014  11:33 PM    <DIR>          MOVIES\n",
        "14/02/2014  09:28 AM    <DIR>          Music\n",
        "04/02/2014  03:06 AM    <DIR>          my-new-website\n",
        "25/09/2013  09:19 PM    <DIR>          paura\n",
        "18/05/2013  01:52 AM    <DIR>          PERFORMANCES 2013\n",
        "25/04/2014  07:39 AM    <DIR>          Pictures\n",
        "09/12/2012  05:44 PM    <DIR>          POEMS_AUDIO\n",
        "16/04/2014  05:48 PM    <DIR>          profolio\n",
        "29/09/2013  02:23 PM    <DIR>          Saved Games\n",
        "29/09/2013  02:23 PM    <DIR>          Searches\n",
        "11/11/2012  11:45 AM    <DIR>          sifu_nov10\n",
        "26/04/2014  10:43 AM            31,167 Untitled0.ipynb\n",
        "11/04/2014  09:10 AM    <DIR>          Videos\n",
        "29/09/2013  02:23 PM    <DIR>          Virtual Machines\n",
        "26/04/2014  09:43 AM    <DIR>          WWW\n",
        "               8 File(s)    220,214,206 bytes\n",
        "              46 Dir(s)  141,574,705,152 bytes free\n"
       ]
      }
     ],
     "prompt_number": 4
    },
    {
     "cell_type": "code",
     "collapsed": false,
     "input": [
      "import matplotlib.pyplot as plt\n",
      "import numpy as np\n",
      "\n",
      "x = np.linspace(0, 3*np.pi, 500)\n",
      "plt.plot(x, np.sin(x**2))\n",
      "plt.title('A simple chirp');"
     ],
     "language": "python",
     "metadata": {},
     "outputs": [
      {
       "metadata": {},
       "output_type": "display_data",
       "png": "[encoded data removed]",
       "text": [
        "<matplotlib.figure.Figure at 0x7742c50>"
       ]
      }
     ],
     "prompt_number": 5
    },
    {
     "cell_type": "code",
     "collapsed": false,
     "input": [
      "Image('http://python.org/static/img/python-logo-large.png')"
     ],
     "language": "python",
     "metadata": {},
     "outputs": [
      {
       "metadata": {},
       "output_type": "pyout",
       "png": "[encoded data removed]",
       "prompt_number": 7,
       "text": [
        "<IPython.core.display.Image at 0x7694cf0>"
       ]
      }
     ],
     "prompt_number": 7
    },
    {
     "cell_type": "code",
     "collapsed": false,
     "input": [
      "from IPython.lib.display import YouTubeVideo\n",
      "# a talk about IPython at Sage Days at U. Washington, Seattle.\n",
      "# Video credit: William Stein.\n",
      "YouTubeVideo('1j_HxD4iLn8')"
     ],
     "language": "python",
     "metadata": {},
     "outputs": [
      {
       "html": [
        "\n",
        "        <iframe\n",
        "            width=\"400\"\n",
        "            height=300\"\n",
        "            src=\"http://www.youtube.com/embed/1j_HxD4iLn8\"\n",
        "            frameborder=\"0\"\n",
        "            allowfullscreen\n",
        "        ></iframe>\n",
        "        "
       ],
       "metadata": {},
       "output_type": "pyout",
       "prompt_number": 8,
       "text": [
        "<IPython.lib.display.YouTubeVideo at 0x7694d70>"
       ]
      }
     ],
     "prompt_number": 8
    },
    {
     "cell_type": "code",
     "collapsed": false,
     "input": [
      "#!/usr/bin/env python\n",
      "\n",
      "# implement the example graphs/integral from pyx\n",
      "from pylab import *\n",
      "from matplotlib.patches import Polygon\n",
      "\n",
      "def func(x):\n",
      "    return (x-3)*(x-5)*(x-7)+85\n",
      "\n",
      "ax = subplot(111)\n",
      "\n",
      "a, b = 2, 9 # integral area\n",
      "x = arange(0, 10, 0.01)\n",
      "y = func(x)\n",
      "plot(x, y, linewidth=1)\n",
      "\n",
      "# make the shaded region\n",
      "ix = arange(a, b, 0.01)\n",
      "iy = func(ix)\n",
      "verts = [(a,0)] + list(zip(ix,iy)) + [(b,0)]\n",
      "poly = Polygon(verts, facecolor='0.8', edgecolor='k')\n",
      "ax.add_patch(poly)\n",
      "\n",
      "text(0.5 * (a + b), 30,\n",
      "     r\"$\\int_a^b f(x)\\mathrm{d}x$\", horizontalalignment='center',\n",
      "     fontsize=20)\n",
      "\n",
      "axis([0,10, 0, 180])\n",
      "figtext(0.9, 0.05, 'x')\n",
      "figtext(0.1, 0.9, 'y')\n",
      "ax.set_xticks((a,b))\n",
      "ax.set_xticklabels(('a','b'))\n",
      "ax.set_yticks([])\n",
      "show()\n"
     ],
     "language": "python",
     "metadata": {},
     "outputs": [
      {
       "metadata": {},
       "output_type": "display_data",
       "png": "[encoded data removed]",
       "text": [
        "<matplotlib.figure.Figure at 0x76a2ff0>"
       ]
      }
     ],
     "prompt_number": 9
    },
    {
     "cell_type": "code",
     "collapsed": false,
     "input": [
      "import math\n",
      "\n",
      "print(dir(math))"
     ],
     "language": "python",
     "metadata": {},
     "outputs": [
      {
       "output_type": "stream",
       "stream": "stdout",
       "text": [
        "['__doc__', '__name__', '__package__', 'acos', 'acosh', 'asin', 'asinh', 'atan', 'atan2', 'atanh', 'ceil', 'copysign', 'cos', 'cosh', 'degrees', 'e', 'erf', 'erfc', 'exp', 'expm1', 'fabs', 'factorial', 'floor', 'fmod', 'frexp', 'fsum', 'gamma', 'hypot', 'isinf', 'isnan', 'ldexp', 'lgamma', 'log', 'log10', 'log1p', 'modf', 'pi', 'pow', 'radians', 'sin', 'sinh', 'sqrt', 'tan', 'tanh', 'trunc']\n"
       ]
      }
     ],
     "prompt_number": 10
    },
    {
     "cell_type": "code",
     "collapsed": false,
     "input": [
      "l = [1,2,3,4]\n",
      "\n",
      "print(type(l))\n",
      "print(l)"
     ],
     "language": "python",
     "metadata": {},
     "outputs": [
      {
       "output_type": "stream",
       "stream": "stdout",
       "text": [
        "<type 'list'>\n",
        "[1, 2, 3, 4]\n"
       ]
      }
     ],
     "prompt_number": 11
    },
    {
     "cell_type": "code",
     "collapsed": false,
     "input": [
      "print(l)\n",
      "\n",
      "print(l[1:3])\n",
      "\n",
      "print(l[::2])"
     ],
     "language": "python",
     "metadata": {},
     "outputs": [
      {
       "output_type": "stream",
       "stream": "stdout",
       "text": [
        "[1, 2, 3, 4]\n",
        "[2, 3]\n",
        "[1, 3]\n"
       ]
      }
     ],
     "prompt_number": 12
    },
    {
     "cell_type": "code",
     "collapsed": false,
     "input": [
      "start = 10\n",
      "stop = 30\n",
      "step = 2\n",
      "\n",
      "range(start, stop, step)"
     ],
     "language": "python",
     "metadata": {},
     "outputs": [
      {
       "metadata": {},
       "output_type": "pyout",
       "prompt_number": 13,
       "text": [
        "[10, 12, 14, 16, 18, 20, 22, 24, 26, 28]"
       ]
      }
     ],
     "prompt_number": 13
    },
    {
     "cell_type": "code",
     "collapsed": false,
     "input": [
      "l.insert(0, \"i\")\n",
      "l.insert(1, \"n\")\n",
      "l.insehttp://127.0.0.1:8888/8e187808-0e63-4715-b106-613b9f774e55#rt(2, \"s\")\n",
      "l.insert(3, \"e\")\n",
      "l.insert(4, \"r\")\n",
      "l.insert(5, \"t\")\n",
      "\n",
      "print(l)"
     ],
     "language": "python",
     "metadata": {},
     "outputs": [
      {
       "output_type": "stream",
       "stream": "stdout",
       "text": [
        "['i', 'n', 's', 'e', 'r', 't', 1, 2, 3, 4]\n"
       ]
      }
     ],
     "prompt_number": 14
    },
    {
     "cell_type": "markdown",
     "metadata": {},
     "source": [
      "### Tuples\n",
      "\n",
      "Tuples are like lists, except that they cannot be modified once created, that is they are *immutable*. \n",
      "\n",
      "In Python, tuples are created using the syntax `(..., ..., ...)`, or even `..., ...`:\n"
     ]
    },
    {
     "cell_type": "code",
     "collapsed": false,
     "input": [
      "point = (10, 20)\n",
      "print(point, type(point))\n",
      "\n",
      "x, y = point\n",
      "print(\"x =\", x)\n",
      "print(\"y =\", y)\n",
      "\n"
     ],
     "language": "python",
     "metadata": {},
     "outputs": [
      {
       "output_type": "stream",
       "stream": "stdout",
       "text": [
        "((10, 20), <type 'tuple'>)\n",
        "('x =', 10)\n",
        "('y =', 20)\n"
       ]
      }
     ],
     "prompt_number": 15
    },
    {
     "cell_type": "markdown",
     "metadata": {},
     "source": [
      "### Dictionaries\n",
      "\n",
      "Dictionaries are also like lists, except that each element is a key-value pair. The syntax for lists are `{key1 : value1, ...}`:"
     ]
    },
    {
     "cell_type": "code",
     "collapsed": false,
     "input": [
      "params = {\"parameter1\" : 1.0,\n",
      "          \"parameter2\" : 2.0,\n",
      "          \"parameter3\" : 3.0,}\n",
      "\n",
      "print(type(params))\n",
      "print(params)"
     ],
     "language": "python",
     "metadata": {},
     "outputs": [
      {
       "output_type": "stream",
       "stream": "stdout",
       "text": [
        "<type 'dict'>\n",
        "{'parameter1': 1.0, 'parameter3': 3.0, 'parameter2': 2.0}\n"
       ]
      }
     ],
     "prompt_number": 16
    },
    {
     "cell_type": "code",
     "collapsed": false,
     "input": [
      "print(\"parameter1 =\", params[\"parameter1\"])\n",
      "print(\"parameter2 =\", params[\"parameter2\"])\n",
      "print(\"parameter3 =\", params[\"parameter3\"])"
     ],
     "language": "python",
     "metadata": {},
     "outputs": [
      {
       "output_type": "stream",
       "stream": "stdout",
       "text": [
        "('parameter1 =', 1.0)\n",
        "('parameter2 =', 2.0)\n",
        "('parameter3 =', 3.0)\n"
       ]
      }
     ],
     "prompt_number": 17
    },
    {
     "cell_type": "code",
     "collapsed": false,
     "input": [
      "statement1 = statement2 = True\n",
      "\n",
      "if statement1:\n",
      "    if statement2:\n",
      "        print(\"both statement1 and statement2 are True\")##careful with indents\n",
      "        \n",
      "if statement1:\n",
      "    print(\"printed if statement1 is True\")\n",
      "    \n",
      "print(\"now outside the if block\")"
     ],
     "language": "python",
     "metadata": {},
     "outputs": [
      {
       "output_type": "stream",
       "stream": "stdout",
       "text": [
        "both statement1 and statement2 are True\n",
        "printed if statement1 is True\n",
        "now outside the if block\n"
       ]
      }
     ],
     "prompt_number": 20
    },
    {
     "cell_type": "code",
     "collapsed": false,
     "input": [
      "for x in [1,2,3]:\n",
      "    print(x)"
     ],
     "language": "python",
     "metadata": {},
     "outputs": [
      {
       "output_type": "stream",
       "stream": "stdout",
       "text": [
        "1\n",
        "2\n",
        "3\n"
       ]
      }
     ],
     "prompt_number": 21
    },
    {
     "cell_type": "code",
     "collapsed": false,
     "input": [
      "for word in [\"scientific\", \"computing\", \"with\", \"python\"]:\n",
      "    print(word)"
     ],
     "language": "python",
     "metadata": {},
     "outputs": [
      {
       "output_type": "stream",
       "stream": "stdout",
       "text": [
        "scientific\n",
        "computing\n",
        "with\n",
        "python\n"
       ]
      }
     ],
     "prompt_number": 22
    },
    {
     "cell_type": "code",
     "collapsed": false,
     "input": [
      "for key, value in params.items():\n",
      "    print(key, \" = \", value)"
     ],
     "language": "python",
     "metadata": {},
     "outputs": [
      {
       "output_type": "stream",
       "stream": "stdout",
       "text": [
        "('parameter1', ' = ', 1.0)\n",
        "('parameter3', ' = ', 3.0)\n",
        "('parameter2', ' = ', 2.0)\n"
       ]
      }
     ],
     "prompt_number": 23
    },
    {
     "cell_type": "code",
     "collapsed": false,
     "input": [
      "for idx, x in enumerate(range(-3,3)):\n",
      "    print(idx, x)"
     ],
     "language": "python",
     "metadata": {},
     "outputs": [
      {
       "output_type": "stream",
       "stream": "stdout",
       "text": [
        "(0, -3)\n",
        "(1, -2)\n",
        "(2, -1)\n",
        "(3, 0)\n",
        "(4, 1)\n",
        "(5, 2)\n"
       ]
      }
     ],
     "prompt_number": 24
    },
    {
     "cell_type": "code",
     "collapsed": false,
     "input": [
      "l1 = [x**2 for x in range(0,5)]\n",
      "\n",
      "print(l1)"
     ],
     "language": "python",
     "metadata": {},
     "outputs": [
      {
       "output_type": "stream",
       "stream": "stdout",
       "text": [
        "[0, 1, 4, 9, 16]\n"
       ]
      }
     ],
     "prompt_number": 25
    },
    {
     "cell_type": "code",
     "collapsed": false,
     "input": [
      "def func1(s):\n",
      "    \"\"\"\n",
      "    Print a string 's' and tell how many characters it has    \n",
      "    \"\"\"\n",
      "    \n",
      "    print(s, \"has\", len(s), \"characters\")\n",
      "    \n",
      "func1('grotesque')"
     ],
     "language": "python",
     "metadata": {},
     "outputs": [
      {
       "output_type": "stream",
       "stream": "stdout",
       "text": [
        "('grotesque', 'has', 9, 'characters')\n"
       ]
      }
     ],
     "prompt_number": 26
    },
    {
     "cell_type": "code",
     "collapsed": false,
     "input": [],
     "language": "python",
     "metadata": {},
     "outputs": []
    }
   ],
   "metadata": {}
  }
 ]
}