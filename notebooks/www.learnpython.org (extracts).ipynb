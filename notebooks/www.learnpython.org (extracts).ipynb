{
 "metadata": {
  "name": ""
 },
 "nbformat": 3,
 "nbformat_minor": 0,
 "worksheets": [
  {
   "cells": [
    {
     "cell_type": "markdown",
     "metadata": {},
     "source": [
      "Writing packages\n",
      "\n",
      "Packages are namespaces which contain multiple packages and modules themselves. They are simply directories, but with a twist.\n",
      "\n",
      "Each package in Python is a directory which MUST contain a special file called __init__.py. This file can be empty, and it indicates that the directory it contains is a Python package, so it can be imported the same way a module can be imported.\n",
      "\n",
      "If we create a directory called foo, which marks the package name, we can then create a module inside that package called bar. We also must not forget to add the __init__.py file inside the foo directory.\n",
      "\n",
      "To use the module bar, we can import it in two ways:\n",
      "\n",
      "In this exercise, you will need to print an alphabetically sorted list of all functions in the re module, which contain the word find."
     ]
    },
    {
     "cell_type": "code",
     "collapsed": false,
     "input": [
      "import re\n",
      "## from re\n",
      "\n",
      "# Your code goes here\n",
      "li= []\n",
      "for name in dir(re):\n",
      "    if('find' in name):\n",
      "        li.append(name)\n",
      "\n",
      "print sorted(li)"
     ],
     "language": "python",
     "metadata": {},
     "outputs": []
    },
    {
     "cell_type": "markdown",
     "metadata": {},
     "source": [
      "Generators\n",
      "\n",
      "Generators are very easy to implement, but a bit difficult to understand.\n",
      "\n",
      "Generators are used to create iterators, but with a different approach. Generators are simple functions which return an iterable set of items, one at a time, in a special way.\n",
      "\n",
      "When an iteration over a set of item starts using the for statement, the generator is run. Once the generator's function code reaches a \"yield\" statement, the generator yields its execution back to the for loop, returning a new value from the set. The generator function can generate as many values (possibly infinite) as it wants, yielding each one in its turn."
     ]
    },
    {
     "cell_type": "code",
     "collapsed": false,
     "input": [
      "# a simple example of a generator function which returns 7 random integers:\n",
      "import random\n",
      "\n",
      "def lottery():\n",
      "    # returns 6 numbers between 1 and 40\n",
      "    for i in xrange(6):\n",
      "        yield random.randint(1, 40)\n",
      "\n",
      "    # returns a 7th number between 1 and 15\n",
      "    yield random.randint(1,15)\n",
      "\n",
      "for random_number in lottery():\n",
      "    print \"And the next number is... %d!\" % random_number"
     ],
     "language": "python",
     "metadata": {},
     "outputs": [
      {
       "output_type": "stream",
       "stream": "stdout",
       "text": [
        "And the next number is... 27!\n",
        "And the next number is... 1!\n",
        "And the next number is... 24!\n",
        "And the next number is... 6!\n",
        "And the next number is... 31!\n",
        "And the next number is... 8!\n",
        "And the next number is... 9!\n"
       ]
      }
     ],
     "prompt_number": 1
    },
    {
     "cell_type": "code",
     "collapsed": false,
     "input": [
      "## fibonacci that begins with 2 ones and uses generator\n",
      "## note the simplicity of the switch and increment values in single line:   a, b = b, a + b\n",
      "## the absence of a for loop\n",
      "## the raw ambiguity of \"while 1:\" (while what is 1?)\n",
      "## the single yield\n",
      "## and the recursive exit defined outside of function\n",
      "\n",
      "def fib():\n",
      "    a, b = 1, 1\n",
      "    while 1:\n",
      "        yield a\n",
      "        a, b = b, a + b\n",
      "\n",
      "# testing code\n",
      "import types\n",
      "if type(fib()) == types.GeneratorType:\n",
      "    print \"Good, The fib function is a generator.\"\n",
      "\n",
      "    counter = 0\n",
      "    for n in fib():\n",
      "        print n\n",
      "        counter += 1\n",
      "        if counter == 10:\n",
      "            break"
     ],
     "language": "python",
     "metadata": {},
     "outputs": [
      {
       "output_type": "stream",
       "stream": "stdout",
       "text": [
        "Good, The fib function is a generator.\n",
        "1\n",
        "1\n",
        "2\n",
        "3\n",
        "5\n",
        "8\n",
        "13\n",
        "21\n",
        "34\n",
        "55\n"
       ]
      }
     ],
     "prompt_number": 2
    },
    {
     "cell_type": "markdown",
     "metadata": {},
     "source": [
      "List Comprehensions"
     ]
    },
    {
     "cell_type": "markdown",
     "metadata": {},
     "source": [
      "\n",
      "List Comprehensions is a very powerful tool, which creates a new list based on another list, in a single, readable line.\n",
      "\n",
      "For example, let's say we need to create a list of integers which specify the length of each word in a certain sentence, but only if the word is not the word \"the\"."
     ]
    },
    {
     "cell_type": "code",
     "collapsed": false,
     "input": [
      "sentence = \"the quick brown fox jumps over the lazy dog\"\n",
      "words = sentence.split()\n",
      "word_lengths = []\n",
      "for word in words:\n",
      "    if word != \"the\":\n",
      "        word_lengths.append(len(word))\n",
      "        \n",
      "print word_lengths"
     ],
     "language": "python",
     "metadata": {},
     "outputs": [
      {
       "output_type": "stream",
       "stream": "stdout",
       "text": [
        "[5, 5, 3, 5, 4, 4, 3]\n"
       ]
      }
     ],
     "prompt_number": 3
    },
    {
     "cell_type": "code",
     "collapsed": false,
     "input": [
      "#create a new list called \"newlist\" out of the list \"numbers\", which contains only the positive numbers from the list, as integers.\n",
      "numbers = [34.6, -203.4, 44.9, 68.3, -12.2, 44.6, 12.7]\n",
      "newlist = [int(x) for x in numbers if x>0]\n",
      "print newlist"
     ],
     "language": "python",
     "metadata": {},
     "outputs": [
      {
       "output_type": "stream",
       "stream": "stdout",
       "text": [
        "[34, 44, 68, 44, 12]\n"
       ]
      }
     ],
     "prompt_number": 4
    },
    {
     "cell_type": "markdown",
     "metadata": {},
     "source": [
      "Multiple Function Arguments"
     ]
    },
    {
     "cell_type": "code",
     "collapsed": false,
     "input": [
      "# NOTE: this almost seems as if the function gets called twice!\n",
      "# **options  addressed with dot syntax\n",
      "\n",
      "def bar(first, second, third, **options):\n",
      "    if options.get(\"action\") == \"sum\":\n",
      "        print \"The sum is: %d\" % (first + second + third)\n",
      "\n",
      "    if options.get(\"number\") == \"first\":\n",
      "        return first\n",
      "\n",
      "result = bar(1, 2, 3, action = \"sum\", number = \"first\")\n",
      "print \"Result: %d\" % result"
     ],
     "language": "python",
     "metadata": {},
     "outputs": [
      {
       "output_type": "stream",
       "stream": "stdout",
       "text": [
        "The sum is: 6\n",
        "Result: 1\n"
       ]
      }
     ],
     "prompt_number": 5
    },
    {
     "cell_type": "code",
     "collapsed": false,
     "input": [
      "# The foo function must return the amount of extra arguments received. \n",
      "# The bar must return True if the argument with the keyword magicnumber is worth 7, and False otherwise.\n",
      "\n",
      "def foo(a, b, c, *args):\n",
      "    return len(args)\n",
      "\n",
      "def bar(a, b, c, **kwargs):\n",
      "    return kwargs[\"magicnumber\"] == 7\n",
      "\n",
      "\n",
      "# test code\n",
      "if foo(1,2,3,4) == 1:\n",
      "    print \"Length of args is 1.\"\n",
      "if foo(1,2,3,4,5) == 2:\n",
      "    print \"Length of args is 2.\"\n",
      "if bar(1,2,3,magicnumber = 6) == False:\n",
      "    print \"magicnumber = 6\"\n",
      "if bar(1,2,3,magicnumber = 7) == True:\n",
      "    print \"Awesome!\""
     ],
     "language": "python",
     "metadata": {},
     "outputs": [
      {
       "output_type": "stream",
       "stream": "stdout",
       "text": [
        "Length of args is 1.\n",
        "Length of args is 2.\n",
        "magicnumber = 6\n",
        "Awesome!\n"
       ]
      }
     ],
     "prompt_number": 11
    },
    {
     "cell_type": "markdown",
     "metadata": {},
     "source": [
      "Exception Handling\n",
      "\n",
      "Suppose you're iterating over a list. You need to iterate over 20 numbers, but the list is made from user input, and might not have 20 numbers in it. After you reach the end of the list, you just want the rest of the numbers to be interpreted as a 0. Here's how you could do that:"
     ]
    },
    {
     "cell_type": "code",
     "collapsed": false,
     "input": [
      "for i in range(20):\n",
      "    try:\n",
      "        do_stuff_with_number(the_list[i])\n",
      "    except Index Error: # Raised when accessing a non-existing index of a list\n",
      "        do_stuff_with_number(0)"
     ],
     "language": "python",
     "metadata": {},
     "outputs": []
    },
    {
     "cell_type": "code",
     "collapsed": false,
     "input": [
      "# split\n",
      "# iterate a dictionary\n",
      "\n",
      "actor = {\"name\": \"John Cleese\", \"rank\": \"awesome\"}\n",
      "\n",
      "def get_last_name():\n",
      "    return actor[\"name\"].split()[1]\n",
      "\n",
      "get_last_name()\n",
      "print \"All exceptions caught! Good job!\"\n",
      "print \"The actor's last name is %s\" % get_last_name()"
     ],
     "language": "python",
     "metadata": {},
     "outputs": [
      {
       "output_type": "stream",
       "stream": "stdout",
       "text": [
        "All exceptions caught! Good job!\n",
        "The actor's last name is Cleese\n"
       ]
      }
     ],
     "prompt_number": 16
    },
    {
     "cell_type": "markdown",
     "metadata": {},
     "source": [
      "Sets\n",
      "\n",
      "Sets are lists with no duplicate entries. Let's say you want to collect a list of words used in a paragraph:\n",
      "\n",
      "(useful for defining all words in a set but eliminating frequency)"
     ]
    },
    {
     "cell_type": "code",
     "collapsed": false,
     "input": [
      "a = [\"Jake\", \"John\", \"Eric\"]\n",
      "b = [\"John\", \"Jill\"]\n",
      "\n",
      "A = set(a)\n",
      "B = set(b)\n",
      "\n",
      "print \"A.union(B)                   all the participants from both sets:                  \", A.union(B)\n",
      "print \"A.intersection(B)            participants who attended both events:                \", A.intersection(B)\n",
      "print \"A.difference(B)              participants from event A who did not attend event B: \", A.difference(B)\n",
      "print \"A.symmetric_difference(B)    participants who ONLY attended one event:             \", A.symmetric_difference(B)"
     ],
     "language": "python",
     "metadata": {},
     "outputs": [
      {
       "output_type": "stream",
       "stream": "stdout",
       "text": [
        "A.union(B)                   all the participants from both sets:                   set(['Jill', 'Jake', 'John', 'Eric'])\n",
        "A.intersection(B)            participants who attended both events:                 set(['John'])\n",
        "A.difference(B)              participants from event A who did not attend event B:  set(['Jake', 'Eric'])\n",
        "A.symmetric_difference(B)    participants who ONLY attended one event:              set(['Jill', 'Jake', 'Eric'])\n"
       ]
      }
     ],
     "prompt_number": 13
    },
    {
     "cell_type": "heading",
     "level": 5,
     "metadata": {},
     "source": [
      "Serialization\n",
      "Python provides built-in JSON libraries to encode and decode JSON."
     ]
    },
    {
     "cell_type": "code",
     "collapsed": false,
     "input": [
      "import cPickle\n",
      "pickled_string = cPickle.dumps([1, 2, 3, \"a\", \"b\", \"c\"])\n",
      "print cPickle.loads(pickled_string)"
     ],
     "language": "python",
     "metadata": {},
     "outputs": [
      {
       "output_type": "stream",
       "stream": "stdout",
       "text": [
        "[1, 2, 3, 'a', 'b', 'c']\n"
       ]
      }
     ],
     "prompt_number": 14
    },
    {
     "cell_type": "heading",
     "level": 5,
     "metadata": {},
     "source": [
      "Partial functions\n",
      "\n",
      "You can create partial functions in python by using the partial function from the functools library.\n",
      "\n",
      "Partial functions allow one to derive a function with x parameters to a function with fewer parameters and fixed values set for the more limited function.\n",
      "\n"
     ]
    },
    {
     "cell_type": "code",
     "collapsed": false,
     "input": [
      "# \n",
      "from functools import partial\n",
      "def func(u,v,w,x):\n",
      "    return u*4 + v*3 + w*2 + x\n",
      "\n",
      "print \"func:\", func(5,6,7,18)\n",
      "p = partial(func,5,6,7)\n",
      "print \"partial where first 3 parameters are replaced and 8 is last parameter:\", p(8)"
     ],
     "language": "python",
     "metadata": {},
     "outputs": [
      {
       "output_type": "stream",
       "stream": "stdout",
       "text": [
        "func: 70\n",
        "partial where first 3 parameters are replaced and 8 is last parameter: 60\n"
       ]
      }
     ],
     "prompt_number": 16
    },
    {
     "cell_type": "heading",
     "level": 6,
     "metadata": {},
     "source": [
      "Code Introspection\n",
      "\n"
     ]
    },
    {
     "cell_type": "markdown",
     "metadata": {},
     "source": [
      "help()\n",
      "dir()\n",
      "hasattr()\n",
      "id()\n",
      "type()\n",
      "repr()\n",
      "callable()\n",
      "issubclass()\n",
      "isinstance()\n",
      "__doc__\n",
      "__name__"
     ]
    },
    {
     "cell_type": "code",
     "collapsed": false,
     "input": [
      "##define the Vehicle class\n",
      "class Vehicle:\n",
      "    name = \"\"\n",
      "    kind = \"car\"\n",
      "    color = \"\"\n",
      "    value = 100.00\n",
      "    def description(self):\n",
      "        desc_str = \"%s is a %s %s worth $%.2f.\" % (self.name, self.color, self.kind, self.value)\n",
      "        return desc_str\n",
      "\n",
      "print dir(Vehicle)"
     ],
     "language": "python",
     "metadata": {},
     "outputs": [
      {
       "output_type": "stream",
       "stream": "stdout",
       "text": [
        "['__doc__', '__module__', 'color', 'description', 'kind', 'name', 'value']\n"
       ]
      }
     ],
     "prompt_number": 17
    },
    {
     "cell_type": "code",
     "collapsed": false,
     "input": [],
     "language": "python",
     "metadata": {},
     "outputs": []
    }
   ],
   "metadata": {}
  }
 ]
}