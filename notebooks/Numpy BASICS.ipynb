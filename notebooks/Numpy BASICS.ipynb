{
 "metadata": {
  "name": ""
 },
 "nbformat": 3,
 "nbformat_minor": 0,
 "worksheets": [
  {
   "cells": [
    {
     "cell_type": "code",
     "collapsed": false,
     "input": [
      "import numpy as np\n",
      "x = np.arange(100)\n",
      "x"
     ],
     "language": "python",
     "metadata": {},
     "outputs": [
      {
       "metadata": {},
       "output_type": "pyout",
       "prompt_number": 8,
       "text": [
        "array([ 0,  1,  2,  3,  4,  5,  6,  7,  8,  9, 10, 11, 12, 13, 14, 15, 16,\n",
        "       17, 18, 19, 20, 21, 22, 23, 24, 25, 26, 27, 28, 29, 30, 31, 32, 33,\n",
        "       34, 35, 36, 37, 38, 39, 40, 41, 42, 43, 44, 45, 46, 47, 48, 49, 50,\n",
        "       51, 52, 53, 54, 55, 56, 57, 58, 59, 60, 61, 62, 63, 64, 65, 66, 67,\n",
        "       68, 69, 70, 71, 72, 73, 74, 75, 76, 77, 78, 79, 80, 81, 82, 83, 84,\n",
        "       85, 86, 87, 88, 89, 90, 91, 92, 93, 94, 95, 96, 97, 98, 99])"
       ]
      }
     ],
     "prompt_number": 8
    },
    {
     "cell_type": "code",
     "collapsed": false,
     "input": [
      "np.arange(15).reshape(3,5)"
     ],
     "language": "python",
     "metadata": {},
     "outputs": [
      {
       "metadata": {},
       "output_type": "pyout",
       "prompt_number": 10,
       "text": [
        "array([[ 0,  1,  2,  3,  4],\n",
        "       [ 5,  6,  7,  8,  9],\n",
        "       [10, 11, 12, 13, 14]])"
       ]
      }
     ],
     "prompt_number": 10
    },
    {
     "cell_type": "code",
     "collapsed": false,
     "input": [
      "a = array ( [2,3,4] )"
     ],
     "language": "python",
     "metadata": {},
     "outputs": []
    },
    {
     "cell_type": "code",
     "collapsed": false,
     "input": [
      "# single ? after a function returns help (ipython spcific)\n",
      "np.matrix?"
     ],
     "language": "python",
     "metadata": {},
     "outputs": [],
     "prompt_number": 11
    },
    {
     "cell_type": "code",
     "collapsed": false,
     "input": [
      "# single ?/ after a function returns simpler help (ipython spcific)\n",
      "np.matrix??"
     ],
     "language": "python",
     "metadata": {},
     "outputs": [],
     "prompt_number": 12
    },
    {
     "cell_type": "code",
     "collapsed": false,
     "input": [
      "#init matrix\n",
      "npMatrix = np.matrix ('1 2 3; 4 5 6; 7 8 9')\n",
      "\n",
      "#display a matrix\n",
      "npMatrix"
     ],
     "language": "python",
     "metadata": {},
     "outputs": [
      {
       "metadata": {},
       "output_type": "pyout",
       "prompt_number": 13,
       "text": [
        "matrix([[1, 2, 3],\n",
        "        [4, 5, 6],\n",
        "        [7, 8, 9]])"
       ]
      }
     ],
     "prompt_number": 13
    },
    {
     "cell_type": "code",
     "collapsed": false,
     "input": [
      "#prettier display\n",
      "print npMatrix"
     ],
     "language": "python",
     "metadata": {},
     "outputs": [
      {
       "output_type": "stream",
       "stream": "stdout",
       "text": [
        "[[1 2 3]\n",
        " [4 5 6]\n",
        " [7 8 9]]\n"
       ]
      }
     ],
     "prompt_number": 14
    },
    {
     "cell_type": "code",
     "collapsed": false,
     "input": [
      "vector = [1 ,2, 3]\n",
      "vector"
     ],
     "language": "python",
     "metadata": {},
     "outputs": [
      {
       "metadata": {},
       "output_type": "pyout",
       "prompt_number": 15,
       "text": [
        "[1, 2, 3]"
       ]
      }
     ],
     "prompt_number": 15
    },
    {
     "cell_type": "code",
     "collapsed": false,
     "input": [
      "vector * 3"
     ],
     "language": "python",
     "metadata": {},
     "outputs": [
      {
       "metadata": {},
       "output_type": "pyout",
       "prompt_number": 16,
       "text": [
        "[1, 2, 3, 1, 2, 3, 1, 2, 3]"
       ]
      }
     ],
     "prompt_number": 16
    },
    {
     "cell_type": "code",
     "collapsed": false,
     "input": [
      "#multiply iterate to make new list\n",
      "[x*3 for x in vector]"
     ],
     "language": "python",
     "metadata": {},
     "outputs": [
      {
       "metadata": {},
       "output_type": "pyout",
       "prompt_number": 17,
       "text": [
        "[3, 6, 9]"
       ]
      }
     ],
     "prompt_number": 17
    },
    {
     "cell_type": "code",
     "collapsed": false,
     "input": [
      "def vectorMultiply (vector,value):\n",
      "    return[x*value for x in vector]\n",
      "           \n",
      "vectorMultiply(vector,3)"
     ],
     "language": "python",
     "metadata": {},
     "outputs": [
      {
       "metadata": {},
       "output_type": "pyout",
       "prompt_number": 20,
       "text": [
        "[3, 6, 9]"
       ]
      }
     ],
     "prompt_number": 20
    },
    {
     "cell_type": "code",
     "collapsed": false,
     "input": [
      "print np.matrix(npMatrix)\n",
      "print len(npMatrix)"
     ],
     "language": "python",
     "metadata": {},
     "outputs": [
      {
       "output_type": "stream",
       "stream": "stdout",
       "text": [
        "[[1 2 3]\n",
        " [4 5 6]\n",
        " [7 8 9]]\n",
        "3\n"
       ]
      }
     ],
     "prompt_number": 26
    },
    {
     "cell_type": "code",
     "collapsed": false,
     "input": [
      "# transpose flips the matrix by iterating in a nested loop thru the matrix \n",
      "matrix = [ [1, 2, 3, 4], \n",
      "           [5, 6, 7, 8],\n",
      "           [9, 0, 1, 2] ]\n",
      "\n",
      "def matrixTranspose(matrix):\n",
      "     return [ [row[i] for row in matrix] for i in range(len(matrix[0]))]\n",
      "    \n",
      "print np.matrix(matrixTranspose(matrix))"
     ],
     "language": "python",
     "metadata": {},
     "outputs": [
      {
       "output_type": "stream",
       "stream": "stdout",
       "text": [
        "[[1 5 9]\n",
        " [2 6 0]\n",
        " [3 7 1]\n",
        " [4 8 2]]\n"
       ]
      }
     ],
     "prompt_number": 28
    },
    {
     "cell_type": "markdown",
     "metadata": {},
     "source": [
      "\\begin{bmatrix}1 & 3 & 9 & 2\\\\2 & 4 & 6 & 8\\end{bmatrix} * \\begin{bmatrix}2 \\\\ 3 \\\\ 6 \\\\ 5  \\end{bmatrix} = \\begin{matrix} 2 + 9 + 54 + 10 \\\\ 4 + 12 + 36 + 40 \\end{matrix} = \\begin{bmatrix} 75 \\\\ 92 \\end{bmatrix}"
     ]
    },
    {
     "cell_type": "code",
     "collapsed": false,
     "input": [
      "\"\"\"Write 2 more functions \n",
      "vectorMatrix multiplication \n",
      "and \n",
      "matrix multiplication. \n",
      "\n",
      "No numpy/scipy! \n",
      "Do this with pure python. \n",
      "Use triple quotes/doc quotes to explain the properties \n",
      "expected for a matrix in these functions:\"\"\"\n",
      "\n",
      "matrix = [ [1, 2, 3, 4], \n",
      "           [5, 6, 7, 8],\n",
      "           [9, 0, 1, 2] ]\n",
      "vector = [1 ,2, 3]\n",
      "\n",
      "def vectorMatrixMultiply(vect,matr):\n",
      "           \n",
      "    # optimal goal form of TRANSPOSE return [ [row[i] for row in vect] for i in range(len(matr[0]))]\n",
      "\n",
      "    \"\"\" TEST #1\n",
      "    for row in vect:\n",
      "        for col in matr:\n",
      "            print row * col\n",
      "            \"\"\"\n",
      "    \n",
      "    \"\"\" TEST #2\n",
      "    for iv in range(len(vect)):\n",
      "        for im in range(len(matr)):\n",
      "            print \"iv:\", iv, \" vect[iv]: \", vect[iv], \"  vect[im]: \", vect[im],\"  im:\", im, \"  matr[im][iv]: \", matr[im][iv]\n",
      "            \"\"\"\n",
      "    \n",
      "    \"\"\" TEST #3\n",
      "    for im in range(len(matr[0])):\n",
      "        for iv in range(len(vect)):\n",
      "            print \"im:\", im ,  \"iv:\", iv ,\"  vect[iv]: \", vect[iv], \"  matr[im][iv]: \", matr[iv][im],  \"  matr[im][iv] * vect[im]: \", matr[iv][im] * vect[iv]\n",
      "          \"\"\"\n",
      "    \n",
      "     # initialize multi dimensional array\n",
      "    newlist=[[0 for x in xrange(3)] for x in xrange(4)]\n",
      "    \n",
      "    for im in range(len(matr[0])):\n",
      "        for iv in range(len(vect)):\n",
      "            newlist[im][iv] = matr[iv][im] * vect[iv]\n",
      "    \n",
      "    return  newlist      \n",
      "    \n",
      "                        \n",
      "# call function        \n",
      "vectorMatrixMultiply(vector,matrix)\n"
     ],
     "language": "python",
     "metadata": {},
     "outputs": [
      {
       "metadata": {},
       "output_type": "pyout",
       "prompt_number": 32,
       "text": [
        "[[1, 10, 27], [2, 12, 0], [3, 14, 3], [4, 16, 6]]"
       ]
      }
     ],
     "prompt_number": 32
    },
    {
     "cell_type": "code",
     "collapsed": false,
     "input": [],
     "language": "python",
     "metadata": {},
     "outputs": []
    }
   ],
   "metadata": {}
  }
 ]
}