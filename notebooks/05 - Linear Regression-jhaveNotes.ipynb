{
 "metadata": {
  "name": "",
  "signature": "sha256:0afa4c19d826da6238e1020b8d74f5e362d41eef081e9639384f7cf203809967"
 },
 "nbformat": 3,
 "nbformat_minor": 0,
 "worksheets": [
  {
   "cells": [
    {
     "cell_type": "code",
     "collapsed": false,
     "input": [
      "%%javascript\n",
      "function is_local(){\n",
      "  return (document.location.hostname == \"localhost\" || document.location.hostname == '127.0.0.1')\n",
      "}\n",
      "var url = is_local() ? \"http://localhost:8000/theme/custom.js\" : \"http://odhk.github.io/hyrule_theme/custom.js\"\n",
      "$.getScript(url)"
     ],
     "language": "python",
     "metadata": {},
     "outputs": [
      {
       "javascript": [
        "function is_local(){\n",
        "  return (document.location.hostname == \"localhost\" || document.location.hostname == '127.0.0.1')\n",
        "}\n",
        "var url = is_local() ? \"http://localhost:8000/theme/custom.js\" : \"http://odhk.github.io/hyrule_theme/custom.js\"\n",
        "$.getScript(url)"
       ],
       "metadata": {},
       "output_type": "display_data",
       "text": [
        "<IPython.core.display.Javascript at 0x3619e90>"
       ]
      }
     ],
     "prompt_number": 1
    },
    {
     "cell_type": "markdown",
     "metadata": {},
     "source": [
      "# The Linear Regression"
     ]
    },
    {
     "cell_type": "markdown",
     "metadata": {},
     "source": [
      "> Statistics show that of those who contract the habit of eating, very few survive.\n",
      "\n",
      "<footer>~ George Bernard Shaw</footer>"
     ]
    },
    {
     "cell_type": "markdown",
     "metadata": {},
     "source": [
      "![break](assets/agenda.png)"
     ]
    },
    {
     "cell_type": "markdown",
     "metadata": {},
     "source": [
      "1. [Introduction To Regression Data Problems](#Intro-to-Regression-Data-Problems)\n",
      "1. [How Regressions Work](#How-Regressions-Work)\n",
      "1. [Determining Cost](#Cost-Of-Linear-Regressions)\n",
      "\n",
      "**Labs:**\n",
      "1. Implementing The Linear Model"
     ]
    },
    {
     "cell_type": "markdown",
     "metadata": {},
     "source": [
      "![break](assets/theory.png)"
     ]
    },
    {
     "cell_type": "heading",
     "level": 2,
     "metadata": {},
     "source": [
      "Intro to Regression Data Problems"
     ]
    },
    {
     "cell_type": "markdown",
     "metadata": {},
     "source": [
      "|   \t|continuous\t|categorical   \t|\n",
      "|:-:\t|:-:\t|:-:\t|\n",
      "|**supervised**   \t|**regression**   \t|classification   \t|\n",
      "|**unsupervised**   \t|dimension reduction   \t|clustering   \t|"
     ]
    },
    {
     "cell_type": "markdown",
     "metadata": {},
     "source": [
      "A regression model is a functional relationship between input & response\n",
      "variables.\n",
      "\n",
      "The **simple linear regression** model captures a linear relationship between a single input variable x and a response variable y:"
     ]
    },
    {
     "cell_type": "markdown",
     "metadata": {},
     "source": [
      "$$y = \u03b1+\u03b2x+\u03b5$$"
     ]
    },
    {
     "cell_type": "markdown",
     "metadata": {},
     "source": [
      "* $y$ = response variable (the one we want to predict)\n",
      "* $x$ = input variable (the one we use to train the model)\n",
      "* $\u03b1$ = intercept (where the line crosses the y-axis)\n",
      "* $\u03b2$ = regression coefficient (the model \u201cparameter\u201d)\n",
      "* $\u03b5$ = residual (the prediction error)"
     ]
    },
    {
     "cell_type": "markdown",
     "metadata": {},
     "source": [
      "We can extend this model to several input variables, giving us the multiple linear regression model:"
     ]
    },
    {
     "cell_type": "markdown",
     "metadata": {},
     "source": [
      "$$y = \u03b1 + \u03b2_1x_1 + ... + \u03b2_nx_n + \u03b5$$"
     ]
    },
    {
     "cell_type": "markdown",
     "metadata": {},
     "source": [
      "![resource](assets/regression_analysis_by_example.png) [Regression Analysis By Example](http://type.hk:2551/calibre/browse/book/294)"
     ]
    },
    {
     "cell_type": "markdown",
     "metadata": {},
     "source": [
      "Linear regression involves several technical assumptions and is often presented with lots of mathematical formality.\n",
      "\n",
      "In order for us to gain a deeper understanding of the \u201cmagic\u201d behind a regression (and to see why we want a machine to do this!), let\u2019s review the math behind this algorithm!"
     ]
    },
    {
     "cell_type": "markdown",
     "metadata": {},
     "source": [
      "![break](assets/theory.png)"
     ]
    },
    {
     "cell_type": "heading",
     "level": 2,
     "metadata": {},
     "source": [
      "How Regression Works"
     ]
    },
    {
     "cell_type": "markdown",
     "metadata": {},
     "source": [
      "Linear regression is, for the most part, just matrix algebra (the stuff we did already!)\n",
      "\n",
      "Let\u2019s go over the math by hand so we can understand how we determine the regression coefficient."
     ]
    },
    {
     "cell_type": "markdown",
     "metadata": {},
     "source": [
      "A linear regression in its simplest form:"
     ]
    },
    {
     "cell_type": "markdown",
     "metadata": {},
     "source": [
      "$$y = \u03b1 + \u03b2x + \u03b5$$"
     ]
    },
    {
     "cell_type": "markdown",
     "metadata": {},
     "source": [
      "but we can assume that our \u03b1 is either 0 or 1, and \u03b5 is zero!"
     ]
    },
    {
     "cell_type": "markdown",
     "metadata": {},
     "source": [
      "$$y = \u03b2x$$"
     ]
    },
    {
     "cell_type": "markdown",
     "metadata": {},
     "source": [
      "but we want to solve for \u03b2, which means our new equation looks more like this:\n",
      "(Transpose is necessary to allow a matric by itself)"
     ]
    },
    {
     "cell_type": "markdown",
     "metadata": {},
     "source": [
      "$$\u03b2 = ( X^TX)^{-1} X^Ty$$"
     ]
    },
    {
     "cell_type": "markdown",
     "metadata": {},
     "source": [
      "How did we get there?"
     ]
    },
    {
     "cell_type": "markdown",
     "metadata": {},
     "source": [
      "$$\u03b2 = \\frac{y}x$$"
     ]
    },
    {
     "cell_type": "markdown",
     "metadata": {},
     "source": [
      "That's problematic, as we cannot divide by a matrix! So we first square the matrix."
     ]
    },
    {
     "cell_type": "markdown",
     "metadata": {},
     "source": [
      "$$\\frac{xy}{x^2}$$"
     ]
    },
    {
     "cell_type": "markdown",
     "metadata": {},
     "source": [
      "That's how we avoid division by a matrix"
     ]
    },
    {
     "cell_type": "markdown",
     "metadata": {},
     "source": [
      "$$\\frac{1}{x{^2}} * \\frac{xy}1$$"
     ]
    },
    {
     "cell_type": "markdown",
     "metadata": {},
     "source": [
      "By using inversion; since raising $x$ to the power of negative 1 is equal to $1$ over $x$"
     ]
    },
    {
     "cell_type": "markdown",
     "metadata": {},
     "source": [
      "$$(XX)^{-1}XY$$"
     ]
    },
    {
     "cell_type": "markdown",
     "metadata": {},
     "source": [
      "And finally to make it programmer friendly"
     ]
    },
    {
     "cell_type": "markdown",
     "metadata": {},
     "source": [
      "$$\u03b2 = ( X^TX)^{-1} X^Ty$$"
     ]
    },
    {
     "cell_type": "markdown",
     "metadata": {},
     "source": [
      "So if we had data:\n",
      "    \n",
      "    3.385  44.5\n",
      "    0.48   15.5\n",
      "    1.35   8.1\n",
      "    465    423\n",
      "    36.33  119.5"
     ]
    },
    {
     "cell_type": "markdown",
     "metadata": {},
     "source": [
      "**Replace with slides math**\n",
      "\n",
      "so the transposed matrix \n",
      "with 1s inserted to be "
     ]
    },
    {
     "cell_type": "markdown",
     "metadata": {},
     "source": [
      "**Q: How did we do compared to a computer?**\n",
      "\n",
      "A: Not bad!"
     ]
    },
    {
     "cell_type": "markdown",
     "metadata": {},
     "source": [
      "**Q: Cool! That means we can do all of our regressions by\n",
      "hand now, right?**"
     ]
    },
    {
     "cell_type": "markdown",
     "metadata": {},
     "source": [
      "![](assets/angry_cat.jpeg)"
     ]
    },
    {
     "cell_type": "markdown",
     "metadata": {},
     "source": [
      "If you are interested in the mathematical derications of the formulas we use in class, I'd suggest picking up"
     ]
    },
    {
     "cell_type": "markdown",
     "metadata": {},
     "source": [
      "![resource](assets/matrix_algebra.jpg)[Matrix Algebra as a Tool](http://book.type.hk/calibre/browse/book/464)"
     ]
    },
    {
     "cell_type": "heading",
     "level": 3,
     "metadata": {},
     "source": [
      "Steps in Regression Analysis"
     ]
    },
    {
     "cell_type": "markdown",
     "metadata": {},
     "source": [
      "1. Statement of the Problem : relies on knowledge of real world domain (remember example of x:time on phone as input var and y:cost of repair as response var.... then calculate the coefficient that will allow you to predict any missing response vars \n",
      "1. Selection of Potentially Relevant Variables : example gender bias against woman: use title as input predict salary OR use salary as input to predict title :: choice defines the question and result\n",
      "1. Data Collection :: \n",
      "1. Model Specification \n",
      "1. Method of Fitting \n",
      "1. Model Fitting \n",
      "1. Model Criticism and Selection \n",
      "1. Objectives of Regression Analysis"
     ]
    },
    {
     "cell_type": "markdown",
     "metadata": {},
     "source": [
      "![break](assets/theory.png)"
     ]
    },
    {
     "cell_type": "heading",
     "level": 2,
     "metadata": {},
     "source": [
      "Cost Of Linear Regressions"
     ]
    },
    {
     "cell_type": "markdown",
     "metadata": {},
     "source": [
      "** Q: How do measure error in a linear regression model?**\n",
      "\n",
      "A: In theory, minimize the sum of the squared residuals\n",
      "(**RSS**, or **SSE**).\n",
      "\n",
      "//////////////////////////////////////////////////////\n",
      "\n",
      "Minimize the distance of each point from the line.\n",
      "The total of all the distance 'errors' should equal ZERO.\n",
      "\n",
      "//////////////////////////////////////////////////////\n",
      "\n",
      "regression is never perfect.\n",
      "\n",
      "y i is the actual value.\n",
      "\n",
      "y bar is the mean of y.\n",
      "\n",
      "y hat is the predicted value.\n"
     ]
    },
    {
     "cell_type": "markdown",
     "metadata": {},
     "source": [
      "$$SST = \\Sigma(y_i-\\bar{y})^2$$\n",
      "$$SSR = \\Sigma(\\hat{y_i}-\\bar{y})^2$$\n",
      "$$SSE = \\Sigma(y_i-\\hat{y_i})^2$$"
     ]
    },
    {
     "cell_type": "markdown",
     "metadata": {},
     "source": [
      "SST = Total Sum of Squared Deviations in $Y$ from its mean $\\hat{y}$"
     ]
    },
    {
     "cell_type": "markdown",
     "metadata": {},
     "source": [
      "SSR = Sum of squares due to regression"
     ]
    },
    {
     "cell_type": "markdown",
     "metadata": {},
     "source": [
      "SSE = Sum of Squared Residiuals"
     ]
    },
    {
     "cell_type": "markdown",
     "metadata": {},
     "source": [
      "In practice, any respectable software can do this for you.\n",
      "\n",
      "In python, we can find this with some quick code."
     ]
    },
    {
     "cell_type": "code",
     "collapsed": false,
     "input": [
      "import numpy as np\n",
      "\n",
      "prediction = np.array([1, 2, 3])\n",
      "actual = np.array([1.12, 1.89, 3.02])\n",
      "\n",
      "## SSE = Sum of Squared Residiuals\n",
      "np.mean((prediction - actual) ** 2)"
     ],
     "language": "python",
     "metadata": {},
     "outputs": [
      {
       "metadata": {},
       "output_type": "pyout",
       "prompt_number": 1,
       "text": [
        "0.0089666666666666835"
       ]
      }
     ],
     "prompt_number": 1
    },
    {
     "cell_type": "markdown",
     "metadata": {},
     "source": [
      "**Q: How do measure goodness of fit?**\n",
      "\n",
      "    \n",
      "A: In theory, we want to maximize $R^2$ (as close to $1$ as possible). -- perfect fit.\n",
      "\n",
      "SEE: http://en.wikipedia.org/wiki/Coefficient_of_determination\n",
      "    \n",
      "Scikit Learn already calculates this for us, as do any other stats packages and programs.\n",
      "\n",
      "If you want to get serious into regression, learn more about the coefficient of determination."
     ]
    },
    {
     "cell_type": "heading",
     "level": 3,
     "metadata": {},
     "source": [
      "Review : Cost"
     ]
    },
    {
     "cell_type": "markdown",
     "metadata": {},
     "source": [
      "1. What values are we looking for when we consider SSE?\n",
      "What is the best value we could potentially have?\n",
      "2. What is the best value we could have for $R^2$ ?\n",
      "3. What\u2019s the primary difference between these two values?"
     ]
    },
    {
     "cell_type": "markdown",
     "metadata": {},
     "source": [
      "![break](assets/code.png)"
     ]
    },
    {
     "cell_type": "heading",
     "level": 2,
     "metadata": {},
     "source": [
      "Implementing the Linear Regression"
     ]
    },
    {
     "cell_type": "markdown",
     "metadata": {},
     "source": [
      "* Work through various data and scatterplots\n",
      "* Create linear models with simple relationships (one feature)\n",
      "* Create linear models with multiple features\n",
      "* Evaluate model performance"
     ]
    },
    {
     "cell_type": "code",
     "collapsed": false,
     "input": [
      "# notebook specific script to see graphs....take it out when you get to sublime\n",
      "%matplotlib inline\n",
      "\n",
      "import pandas as pd\n",
      "import numpy as np\n",
      "import matplotlib.pyplot as plt\n",
      "\n",
      "# Set some Pandas options\n",
      "pd.set_option('max_columns', 30)\n",
      "pd.set_option('max_rows', 20)\n",
      "\n",
      "# Store data in a consistent place\n",
      "DATA_DIR = '../data/'"
     ],
     "language": "python",
     "metadata": {},
     "outputs": [],
     "prompt_number": 9
    },
    {
     "cell_type": "heading",
     "level": 3,
     "metadata": {},
     "source": [
      "Build an incredibly basic linear model function."
     ]
    },
    {
     "cell_type": "code",
     "collapsed": false,
     "input": [
      "from numpy import array, dot\n",
      "from scipy.linalg import inv\n",
      "\n",
      "X = array([ [1, 1], [1, 2], [1, 3], [1, 4] ])\n",
      "y = array([ [1], [2], [3], [4] ])\n",
      "\n",
      "print \"X:\\n\",X\n",
      "print \"X.T:\\n\",X.T\n",
      "\n",
      "print \"\\n dot(X.T, X\\n\",dot(X.T, X)\n",
      "\n",
      "n = \"\\ninv(dot(X.T, X)):\\n\",inv(dot(X.T, X))\n",
      "\n",
      "print \"\\n n:\",n\n",
      "\n",
      "k = dot(X.T, y)\n",
      "\n",
      "print k\n",
      "\n",
      "coef_ = dot(n, k)\n",
      "\n",
      "print \"\\ndot(n, k):\\n\",coef_"
     ],
     "language": "python",
     "metadata": {},
     "outputs": [
      {
       "ename": "ValueError",
       "evalue": "cannot set an array element with a sequence",
       "output_type": "pyerr",
       "traceback": [
        "\u001b[1;31m---------------------------------------------------------------------------\u001b[0m\n\u001b[1;31mValueError\u001b[0m                                Traceback (most recent call last)",
        "\u001b[1;32m<ipython-input-7-8981a0cfcaf9>\u001b[0m in \u001b[0;36m<module>\u001b[1;34m()\u001b[0m\n\u001b[0;32m     18\u001b[0m \u001b[1;32mprint\u001b[0m \u001b[0mk\u001b[0m\u001b[1;33m\u001b[0m\u001b[0m\n\u001b[0;32m     19\u001b[0m \u001b[1;33m\u001b[0m\u001b[0m\n\u001b[1;32m---> 20\u001b[1;33m \u001b[0mcoef_\u001b[0m \u001b[1;33m=\u001b[0m \u001b[0mdot\u001b[0m\u001b[1;33m(\u001b[0m\u001b[0mn\u001b[0m\u001b[1;33m,\u001b[0m \u001b[0mk\u001b[0m\u001b[1;33m)\u001b[0m\u001b[1;33m\u001b[0m\u001b[0m\n\u001b[0m\u001b[0;32m     21\u001b[0m \u001b[1;33m\u001b[0m\u001b[0m\n\u001b[0;32m     22\u001b[0m \u001b[1;32mprint\u001b[0m \u001b[1;34m\"\\ndot(n, k):\\n\"\u001b[0m\u001b[1;33m,\u001b[0m\u001b[0mcoef_\u001b[0m\u001b[1;33m\u001b[0m\u001b[0m\n",
        "\u001b[1;31mValueError\u001b[0m: cannot set an array element with a sequence"
       ]
      },
      {
       "output_type": "stream",
       "stream": "stdout",
       "text": [
        "X:\n",
        "[[1 1]\n",
        " [1 2]\n",
        " [1 3]\n",
        " [1 4]]\n",
        "X.T:\n",
        "[[1 1 1 1]\n",
        " [1 2 3 4]]\n",
        "\n",
        " dot(X.T, X\n",
        "[[ 4 10]\n",
        " [10 30]]\n",
        "\n",
        " n: ('\\ninv(dot(X.T, X)):\\n', array([[ 1.5, -0.5],\n",
        "       [-0.5,  0.2]]))\n",
        "[[10]\n",
        " [30]]\n"
       ]
      }
     ],
     "prompt_number": 7
    },
    {
     "cell_type": "markdown",
     "metadata": {},
     "source": [
      "This can all be turned into one relatively simple algorithm, though it is rather limiting in features."
     ]
    },
    {
     "cell_type": "code",
     "collapsed": false,
     "input": [
      "def regression(input, response):\n",
      "    return dot(inv(dot(input.T, input)), dot(input.T, response))"
     ],
     "language": "python",
     "metadata": {},
     "outputs": [],
     "prompt_number": 15
    },
    {
     "cell_type": "heading",
     "level": 3,
     "metadata": {},
     "source": [
      "Practice: Plotting Data"
     ]
    },
    {
     "cell_type": "markdown",
     "metadata": {},
     "source": [
      "We're gonna start by playing with data about mammals brain and body size. \n",
      "\n",
      "Use the gist [link](https://gist.github.com/tijptjik/2f6307ee4d192ce8927b\n",
      ") and find the \"< >\" button to get the actual raw data file.\n",
      "\n",
      "Lets load the data into pandas and generate a scatterplot:"
     ]
    },
    {
     "cell_type": "code",
     "collapsed": false,
     "input": [
      "!curl https://gist.githubusercontent.com/tijptjik/2f6307ee4d192ce8927b/raw/c56f694bf4e7bbeeec92e24d33a8f49f7da37be8/mammals.csv > ../data/mammals.csv   "
     ],
     "language": "python",
     "metadata": {},
     "outputs": [
      {
       "output_type": "stream",
       "stream": "stderr",
       "text": [
        "  % Total    % Received % Xferd  Average Speed   Time    Time     Time  Current\n",
        "                                 Dload  Upload   Total   Spent    Left  Speed\n",
        "\n",
        "  0     0    0     0    0     0      0      0 --:--:-- --:--:-- --:--:--     0\n",
        "  0     0    0     0    0     0      0      0 --:--:-- --:--:-- --:--:--     0\n",
        "100   172    0   172    0     0    125      0 --:--:--  0:00:01 --:--:--   125\n",
        "100  1402    0  1402    0     0   1021      0 --:--:--  0:00:01 --:--:--  1021\n"
       ]
      }
     ],
     "prompt_number": 5
    },
    {
     "cell_type": "code",
     "collapsed": false,
     "input": [
      "mammals = pd.read_csv(DATA_DIR + 'mammals.csv')\n",
      "mammals.describe()\n",
      "#print \"\\n\"\n",
      "#mammals.head()"
     ],
     "language": "python",
     "metadata": {},
     "outputs": [
      {
       "html": [
        "<div style=\"max-height:1000px;max-width:1500px;overflow:auto;\">\n",
        "<table border=\"1\" class=\"dataframe\">\n",
        "  <thead>\n",
        "    <tr style=\"text-align: right;\">\n",
        "      <th></th>\n",
        "      <th>body</th>\n",
        "      <th>brain</th>\n",
        "    </tr>\n",
        "  </thead>\n",
        "  <tbody>\n",
        "    <tr>\n",
        "      <th>count</th>\n",
        "      <td>   62.000000</td>\n",
        "      <td>   62.000000</td>\n",
        "    </tr>\n",
        "    <tr>\n",
        "      <th>mean</th>\n",
        "      <td>  198.789984</td>\n",
        "      <td>  283.134194</td>\n",
        "    </tr>\n",
        "    <tr>\n",
        "      <th>std</th>\n",
        "      <td>  899.158011</td>\n",
        "      <td>  930.278942</td>\n",
        "    </tr>\n",
        "    <tr>\n",
        "      <th>min</th>\n",
        "      <td>    0.005000</td>\n",
        "      <td>    0.140000</td>\n",
        "    </tr>\n",
        "    <tr>\n",
        "      <th>25%</th>\n",
        "      <td>    0.600000</td>\n",
        "      <td>    4.250000</td>\n",
        "    </tr>\n",
        "    <tr>\n",
        "      <th>50%</th>\n",
        "      <td>    3.342500</td>\n",
        "      <td>   17.250000</td>\n",
        "    </tr>\n",
        "    <tr>\n",
        "      <th>75%</th>\n",
        "      <td>   48.202500</td>\n",
        "      <td>  166.000000</td>\n",
        "    </tr>\n",
        "    <tr>\n",
        "      <th>max</th>\n",
        "      <td> 6654.000000</td>\n",
        "      <td> 5712.000000</td>\n",
        "    </tr>\n",
        "  </tbody>\n",
        "</table>\n",
        "<p>8 rows \u00d7 2 columns</p>\n",
        "</div>"
       ],
       "metadata": {},
       "output_type": "pyout",
       "prompt_number": 15,
       "text": [
        "              body        brain\n",
        "count    62.000000    62.000000\n",
        "mean    198.789984   283.134194\n",
        "std     899.158011   930.278942\n",
        "min       0.005000     0.140000\n",
        "25%       0.600000     4.250000\n",
        "50%       3.342500    17.250000\n",
        "75%      48.202500   166.000000\n",
        "max    6654.000000  5712.000000\n",
        "\n",
        "[8 rows x 2 columns]"
       ]
      }
     ],
     "prompt_number": 15
    },
    {
     "cell_type": "code",
     "collapsed": false,
     "input": [
      "# figure(figsize=(20,8))\n",
      "plt.scatter(mammals['body'], mammals['brain'])\n",
      "plt.show()"
     ],
     "language": "python",
     "metadata": {},
     "outputs": [
      {
       "metadata": {},
       "output_type": "display_data",
       "png": "[encoded data removed]",
       "text": [
        "<matplotlib.figure.Figure at 0xc1c4c50>"
       ]
      }
     ],
     "prompt_number": 16
    },
    {
     "cell_type": "code",
     "collapsed": false,
     "input": [
      "# figure(figsize=(20,8))\n",
      "plt.hist(mammals['body'], bins=range(0, 10000, 100))\n",
      "plt.show()"
     ],
     "language": "python",
     "metadata": {},
     "outputs": [
      {
       "metadata": {},
       "output_type": "display_data",
       "png": "[encoded data removed]",
       "text": [
        "<matplotlib.figure.Figure at 0x36e4690>"
       ]
      }
     ],
     "prompt_number": 19
    },
    {
     "cell_type": "code",
     "collapsed": false,
     "input": [
      "# figure(figsize=(20,8))\n",
      "plt.hist(mammals['brain'], bins=range(0, 10000, 100))\n",
      "plt.show()"
     ],
     "language": "python",
     "metadata": {},
     "outputs": [
      {
       "metadata": {},
       "output_type": "display_data",
       "png": "[encoded data removed]",
       "text": [
        "<matplotlib.figure.Figure at 0x36815d0>"
       ]
      }
     ],
     "prompt_number": 20
    },
    {
     "cell_type": "markdown",
     "metadata": {},
     "source": [
      "For the most part, we know that this data is a _long tail_ distribution, so we could take the log of each feature to create something that is not just more readable, but new features that could be a better representation of the data!\n"
     ]
    },
    {
     "cell_type": "code",
     "collapsed": false,
     "input": [
      "from numpy import log\n",
      "# figure(figsize=(20,8))\n",
      "\n",
      "\"\"\"\n",
      "\n",
      "If the data contains OUTLIERS, use LOG distribution to reduce distance....\n",
      "\n",
      "\"\"\"\n",
      "mammals['log_body'] = log(mammals['body'])\n",
      "mammals['log_brain'] = log(mammals['brain'])\n",
      "\n",
      "plt.scatter(mammals['log_body'], mammals['log_brain'])"
     ],
     "language": "python",
     "metadata": {},
     "outputs": [
      {
       "metadata": {},
       "output_type": "pyout",
       "prompt_number": 21,
       "text": [
        "<matplotlib.collections.PathCollection at 0x3738b50>"
       ]
      },
      {
       "metadata": {},
       "output_type": "display_data",
       "png": "[encoded data removed]",
       "text": [
        "<matplotlib.figure.Figure at 0x36db950>"
       ]
      }
     ],
     "prompt_number": 21
    },
    {
     "cell_type": "heading",
     "level": 3,
     "metadata": {},
     "source": [
      "Practice: Using Linear Regressions"
     ]
    },
    {
     "cell_type": "code",
     "collapsed": false,
     "input": [
      "#sci-kit learn\n",
      "from sklearn import linear_model\n",
      "\n",
      "# Make the model object (there are lots of different types...this uses Linear)\n",
      "regr = linear_model.LinearRegression()\n",
      "\n",
      "# Fit the data\n",
      "# NOTE: the syntax....is just to create a matrix for this simple edge case...\n",
      "# matrix is needed for first parameter of fit() in next command\n",
      "body = [[x] for x in mammals['body'].values]\n",
      "brain = mammals['brain'].values\n",
      "\n",
      "regr.fit(body, brain)"
     ],
     "language": "python",
     "metadata": {},
     "outputs": [
      {
       "metadata": {},
       "output_type": "pyout",
       "prompt_number": 17,
       "text": [
        "LinearRegression(copy_X=True, fit_intercept=True, normalize=False)"
       ]
      },
      {
       "metadata": {},
       "output_type": "pyout",
       "prompt_number": 20,
       "text": [
        "LinearRegression(copy_X=True, fit_intercept=True, normalize=False)"
       ]
      }
     ],
     "prompt_number": 20
    },
    {
     "cell_type": "markdown",
     "metadata": {},
     "source": [
      "Above we go through some steps to get our data 'presentable' for scikit learn. There is a regression model available in PANDAS, but let's stick with the models available in scikit learn."
     ]
    },
    {
     "cell_type": "code",
     "collapsed": false,
     "input": [
      "# Display the coefficients:\n",
      "print \"regr.coef_:\\n\",regr.coef_\n",
      "\n",
      "# Display our SSE:\n",
      "print \"\\nnp.mean((regr.predict(body) - brain) ** 2):\\n\",np.mean((regr.predict(body) - brain) ** 2)\n",
      "\n",
      "# Scoring our model (closer to 1 is better!)\n",
      "print \"\\nR SQUARD is in python     regr.score(input,response)    EXAMPLE:  regr.score(body, brain):\\n\",regr.score(body, brain)"
     ],
     "language": "python",
     "metadata": {},
     "outputs": [
      {
       "output_type": "stream",
       "stream": "stdout",
       "text": [
        "regr.coef_:\n",
        "[ 0.96649637]\n",
        "\n",
        "np.mean((regr.predict(body) - brain) ** 2):\n",
        "108423.210573\n",
        "\n",
        "R SQUARD is in python     regr.score(input,response)    EXAMPLE:  regr.score(body, brain):\n",
        "0.872662084304\n"
       ]
      }
     ],
     "prompt_number": 24
    },
    {
     "cell_type": "markdown",
     "metadata": {},
     "source": [
      "Our performance here is okay (~87% accuracy), and can verify this with a plot:"
     ]
    },
    {
     "cell_type": "code",
     "collapsed": false,
     "input": [
      "plt.scatter(body, brain)\n",
      "plt.plot(body, regr.predict(body), color='blue', linewidth=3)\n",
      "plt.show()"
     ],
     "language": "python",
     "metadata": {},
     "outputs": [
      {
       "metadata": {},
       "output_type": "display_data",
       "png": "[encoded data removed]",
       "text": [
        "<matplotlib.figure.Figure at 0xc1bced0>"
       ]
      }
     ],
     "prompt_number": 25
    },
    {
     "cell_type": "markdown",
     "metadata": {},
     "source": [
      "![break](assets/voronoi.png)"
     ]
    },
    {
     "cell_type": "heading",
     "level": 3,
     "metadata": {},
     "source": [
      "Classwork"
     ]
    },
    {
     "cell_type": "heading",
     "level": 4,
     "metadata": {},
     "source": [
      "1. Go through the same steps, but this time generate a new model use the log of brain and body, which we know generated a much better distribution and cleaner set of data. Compare the results to the original model. Remember that exp() can be used to \"normalize\" our \"logged\" values. Note: Make sure you start a new linear regression object!"
     ]
    },
    {
     "cell_type": "code",
     "collapsed": false,
     "input": [
      "################\n",
      "# CLASSWORK #1 #\n",
      "################\n",
      "\n",
      "#sci-kit learn\n",
      "from sklearn import linear_model\n",
      "from numpy import log\n",
      "\n",
      "#import\n",
      "mammals2 = pd.read_csv(DATA_DIR + 'mammals.csv')\n",
      "\n",
      "# Make the model object (there are lots of different types...this uses Linear)\n",
      "regr2 = linear_model.LinearRegression()\n",
      "\n",
      "mammals['log_body'] = log(mammals['body'])\n",
      "mammals['log_brain'] = log(mammals['brain'])\n",
      "\n",
      "# Fit the data\n",
      "log_body = [[x] for x in mammals['log_body'].values]\n",
      "log_brain = mammals['log_brain'].values\n",
      "\n",
      "#fit\n",
      "regr2.fit(log_body, log_brain)\n",
      "\n",
      "# Display the coefficients:\n",
      "print \"regr2.coef_:\\n\",regr2.coef_\n",
      "\n",
      "# Display our SSE:\n",
      "print \"\\nnp.mean((regr2.predict(body) - brain) ** 2):\\n\",np.mean((regr2.predict(body) - brain) ** 2)\n",
      "\n",
      "# Scoring our model (closer to 1 is better!)\n",
      "print \"\\nR SQUARD is in python     regr.score(input,response)    EXAMPLE:  regr.score(body, brain):\\n\",regr2.score(log_body, log_brain)"
     ],
     "language": "python",
     "metadata": {},
     "outputs": [
      {
       "output_type": "stream",
       "stream": "stdout",
       "text": [
        "regr2.coef_:\n",
        "[ 0.75168594]\n",
        "\n",
        "np.mean((regr2.predict(body) - brain) ** 2):\n",
        "162438.976668\n",
        "\n",
        "R SQUARD is in python     regr.score(input,response)    EXAMPLE:  regr.score(body, brain):\n",
        "0.920783716903\n"
       ]
      }
     ],
     "prompt_number": 27
    },
    {
     "cell_type": "markdown",
     "metadata": {},
     "source": [
      "[Download](http://bit.ly/16bZqir) the cleaned up aggregation nytimes data\n"
     ]
    },
    {
     "cell_type": "heading",
     "level": 4,
     "metadata": {},
     "source": [
      "2. Using your aggregate data compiled from nytimes1-30.csv, write a python script that determines the best model predicting CTR based off of age and gender. Since gender is not actually numeric (it is binary), investigate ways to vectorize this feature. Clue: you may want two features now instead of one."
     ]
    },
    {
     "cell_type": "code",
     "collapsed": false,
     "input": [
      "################\n",
      "# CLASSWORK #2 #\n",
      "################\n",
      "\n",
      "#import\n",
      "nyagg = pd.read_csv(DATA_DIR + 'nyagg_clean.csv')\n",
      "nyagg.head()\n",
      "\n",
      "# Make the model object (there are lots of different types...this uses Linear)\n",
      "regr_ny = linear_model.LinearRegression()"
     ],
     "language": "python",
     "metadata": {},
     "outputs": [],
     "prompt_number": 45
    },
    {
     "cell_type": "code",
     "collapsed": false,
     "input": [
      "# get the input vars BUT NOT LIKE THIS\n",
      "#ny_x = nyagg[[\"Age\",\"Gender\"]].values\n",
      "\n",
      "# get the input vars LIKE THIS (as vectors so they can be plotted)\n",
      "age = [[x] for x in nyagg[\"Age\"].values]\n",
      "\n",
      "gender = [[y] for y in nyagg[\"Gender\"].values]\n",
      "# get the response\n",
      "Ctr = nyagg[\"Ctr\"].values"
     ],
     "language": "python",
     "metadata": {},
     "outputs": [],
     "prompt_number": 68
    },
    {
     "cell_type": "markdown",
     "metadata": {},
     "source": [
      "Since there are both age and gender to plot on one axis,\n",
      "SEE subplot examples: http://matplotlib.org/examples/pylab_examples/subplots_demo.html"
     ]
    },
    {
     "cell_type": "code",
     "collapsed": false,
     "input": [
      "# or simply plot them both on same graph.....\n",
      "plt.scatter(age, Ctr,c=\"blue\")\n",
      "plt.scatter(gender,Ctr,c=\"red\")\n",
      "plt.show"
     ],
     "language": "python",
     "metadata": {},
     "outputs": [
      {
       "metadata": {},
       "output_type": "pyout",
       "prompt_number": 69,
       "text": [
        "<function matplotlib.pyplot.show>"
       ]
      },
      {
       "metadata": {},
       "output_type": "display_data",
       "png": "[encoded data removed]",
       "text": [
        "<matplotlib.figure.Figure at 0xced2ad0>"
       ]
      }
     ],
     "prompt_number": 69
    },
    {
     "cell_type": "markdown",
     "metadata": {},
     "source": [
      "3. Compare this practice to making two separate models based on Gender, with Age as your one feature predicting CTR. How are your results different? Which results would you be more confident in presenting to your manager? Why's that?\n",
      "\n",
      "\n",
      "\n",
      "4. Evaluate what data you could still use to improve your nytimes model. Consider plotting your model to service your explanations and write a short blurb about insights gained and next steps in your \"data collection.\""
     ]
    },
    {
     "cell_type": "markdown",
     "metadata": {},
     "source": [
      "![break](assets/resources.png)"
     ]
    },
    {
     "cell_type": "heading",
     "level": 2,
     "metadata": {},
     "source": [
      "Resources"
     ]
    },
    {
     "cell_type": "heading",
     "level": 4,
     "metadata": {},
     "source": [
      "Handbooks"
     ]
    },
    {
     "cell_type": "markdown",
     "metadata": {},
     "source": [
      "* [Regression Analysis by Example](http://type.hk:2551/calibre/browse/book/294) - Samprit Chatterjee\n",
      "* [Matrix Algebra as a Tool](http://book.type.hk/calibre/browse/book/464) - Ali S. Hadi"
     ]
    }
   ],
   "metadata": {}
  }
 ]
}