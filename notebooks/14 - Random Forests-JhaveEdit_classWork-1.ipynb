{
 "metadata": {
  "name": "",
  "signature": "sha256:33ae5cfd829ec28a9b2500a7529886d80a8ea2784864e7617d265cf622b4c77b"
 },
 "nbformat": 3,
 "nbformat_minor": 0,
 "worksheets": [
  {
   "cells": [
    {
     "cell_type": "code",
     "collapsed": false,
     "input": [
      "#With the authorship data, determine how changing the parameters in the random forest model changes the performance of the model."
     ],
     "language": "python",
     "metadata": {},
     "outputs": []
    },
    {
     "cell_type": "code",
     "collapsed": false,
     "input": [
      "import random\n",
      "from pandas import read_csv\n",
      "from sklearn.cross_validation import train_test_split\n",
      "from sklearn.ensemble.forest import ExtraTreesClassifier\n",
      "from sklearn import metrics\n",
      "from sklearn import preprocessing\n",
      "\n",
      "authorship = read_csv('http://people.stern.nyu.edu/jsimonof/AnalCatData/Data/Comma_separated/authorship.csv')\n",
      "authors = list(set(authorship.Author.values))\n",
      "le = preprocessing.LabelEncoder()\n",
      "le.fit(authors)\n",
      "authorship['Author_num'] = le.transform(authorship['Author'])\n"
     ],
     "language": "python",
     "metadata": {},
     "outputs": [],
     "prompt_number": 4
    },
    {
     "cell_type": "code",
     "collapsed": false,
     "input": [
      "\n",
      "# Create a random variable (random forests work best with a random variable)\n",
      "authorship['random'] = [random.random() for i in range(841)]\n",
      "\n",
      "#What are some of the stop words we're looking at?\n",
      "features = list(authorship.columns)\n",
      "print features\n",
      "features.remove('Author')\n",
      "features.remove('Author_num')\n",
      "features.remove('BookID')\n",
      "\n",
      "# create a test and training set\n",
      "# CHANGED test_size =  the proportion of the dataset to include in the test split. \n",
      "# random_state= random sampling PROBABLY IRRELEVANT?\n",
      "x_train, x_test, y_train, y_test = train_test_split(authorship[features], authorship.Author_num.values, test_size=0.3, random_state=1000)\n",
      "\n",
      "\n",
      "# Fit Model\n",
      "# CHANGED raising number of estimators\n",
      "etclf = ExtraTreesClassifier(n_estimators=100)\n",
      "etclf.fit(x_train, y_train)\n",
      "\n",
      "# Print Confusion Matrix\n",
      "print metrics.confusion_matrix(etclf.predict(x_test), y_test)"
     ],
     "language": "python",
     "metadata": {},
     "outputs": [
      {
       "output_type": "stream",
       "stream": "stdout",
       "text": [
        "['a', 'all', 'also', 'an', 'and', 'any', 'are', 'as', 'at', 'be', 'been', 'but', 'by', 'can', 'do', 'down', 'even', 'every', 'for', 'from', 'had', 'has', 'have', 'her', 'his', 'if', 'in', 'into', 'is', 'it', 'its', 'may', 'more', 'must', 'my', 'no', 'not', 'now', 'of', 'on', 'one', 'only', 'or', 'our', 'should', 'so', 'some', 'such', 'than', 'that', 'the', 'their', 'then', 'there', 'things', 'this', 'to', 'up', 'upon', 'was', 'were', 'what', 'when', 'which', 'who', 'will', 'with', 'would', 'your', 'BookID', 'Author', 'Author_num', 'random']\n",
        "[[98  0  0  0]\n",
        " [ 0 92  0  1]\n",
        " [ 0  0 11  0]\n",
        " [ 0  0  0 51]]"
       ]
      },
      {
       "output_type": "stream",
       "stream": "stdout",
       "text": [
        "\n"
       ]
      }
     ],
     "prompt_number": 18
    },
    {
     "cell_type": "code",
     "collapsed": false,
     "input": [],
     "language": "python",
     "metadata": {},
     "outputs": []
    }
   ],
   "metadata": {}
  }
 ]
}